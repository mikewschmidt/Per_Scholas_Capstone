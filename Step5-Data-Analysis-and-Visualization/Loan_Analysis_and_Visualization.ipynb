{
 "cells": [
  {
   "attachments": {},
   "cell_type": "markdown",
   "metadata": {},
   "source": [
    "# Load Application Import, Data Analysis and Visualization"
   ]
  },
  {
   "attachments": {},
   "cell_type": "markdown",
   "metadata": {},
   "source": [
    "### 4. Functional Requirements - LOAN Application Dataset\n"
   ]
  },
  {
   "cell_type": "code",
   "execution_count": 1,
   "metadata": {},
   "outputs": [],
   "source": [
    "import requests\n",
    "import pandas as pd\n",
    "from pyspark.sql import SparkSession\n",
    "from pyspark.sql.types import StructType, StructField, IntegerType, StringType, TimestampType, FloatType\n",
    "import mariadb\n",
    "import mysql.connector\n",
    "import matplotlib.pyplot as plt\n",
    "\n",
    "\n"
   ]
  },
  {
   "attachments": {},
   "cell_type": "markdown",
   "metadata": {},
   "source": [
    "Create a Python program to GET (consume) data from the API endpoint for the loan application dataset.\n",
    " \n",
    "Functional Requirements 4.1\n",
    "\n"
   ]
  },
  {
   "cell_type": "code",
   "execution_count": 2,
   "metadata": {},
   "outputs": [],
   "source": [
    "def get_load_data():\n",
    "    return requests.get(\"https://raw.githubusercontent.com/platformps/LoanDataset/main/loan_data.json\")\n",
    "    \n",
    "\n",
    "resp = get_load_data()\n"
   ]
  },
  {
   "attachments": {},
   "cell_type": "markdown",
   "metadata": {},
   "source": [
    "Find the status code of the above API endpoint.\n",
    " (Hint: status code could be 200, 400, 404, 401.)\n",
    " \n",
    "Functional Requirements 4.2\n",
    "\n"
   ]
  },
  {
   "cell_type": "code",
   "execution_count": 4,
   "metadata": {},
   "outputs": [
    {
     "data": {
      "text/plain": [
       "200"
      ]
     },
     "execution_count": 4,
     "metadata": {},
     "output_type": "execute_result"
    }
   ],
   "source": [
    "resp.status_code"
   ]
  },
  {
   "attachments": {},
   "cell_type": "markdown",
   "metadata": {},
   "source": [
    "Preview the data"
   ]
  },
  {
   "cell_type": "code",
   "execution_count": 6,
   "metadata": {},
   "outputs": [
    {
     "data": {
      "text/html": [
       "<div>\n",
       "<style scoped>\n",
       "    .dataframe tbody tr th:only-of-type {\n",
       "        vertical-align: middle;\n",
       "    }\n",
       "\n",
       "    .dataframe tbody tr th {\n",
       "        vertical-align: top;\n",
       "    }\n",
       "\n",
       "    .dataframe thead th {\n",
       "        text-align: right;\n",
       "    }\n",
       "</style>\n",
       "<table border=\"1\" class=\"dataframe\">\n",
       "  <thead>\n",
       "    <tr style=\"text-align: right;\">\n",
       "      <th></th>\n",
       "      <th>Application_ID</th>\n",
       "      <th>Gender</th>\n",
       "      <th>Married</th>\n",
       "      <th>Dependents</th>\n",
       "      <th>Education</th>\n",
       "      <th>Self_Employed</th>\n",
       "      <th>Credit_History</th>\n",
       "      <th>Property_Area</th>\n",
       "      <th>Income</th>\n",
       "      <th>Application_Status</th>\n",
       "    </tr>\n",
       "  </thead>\n",
       "  <tbody>\n",
       "    <tr>\n",
       "      <th>0</th>\n",
       "      <td>LP001002</td>\n",
       "      <td>Male</td>\n",
       "      <td>No</td>\n",
       "      <td>0</td>\n",
       "      <td>Graduate</td>\n",
       "      <td>No</td>\n",
       "      <td>1</td>\n",
       "      <td>Urban</td>\n",
       "      <td>medium</td>\n",
       "      <td>Y</td>\n",
       "    </tr>\n",
       "    <tr>\n",
       "      <th>1</th>\n",
       "      <td>LP001003</td>\n",
       "      <td>Male</td>\n",
       "      <td>Yes</td>\n",
       "      <td>1</td>\n",
       "      <td>Graduate</td>\n",
       "      <td>No</td>\n",
       "      <td>1</td>\n",
       "      <td>Rural</td>\n",
       "      <td>medium</td>\n",
       "      <td>N</td>\n",
       "    </tr>\n",
       "    <tr>\n",
       "      <th>2</th>\n",
       "      <td>LP001005</td>\n",
       "      <td>Male</td>\n",
       "      <td>Yes</td>\n",
       "      <td>0</td>\n",
       "      <td>Graduate</td>\n",
       "      <td>Yes</td>\n",
       "      <td>1</td>\n",
       "      <td>Urban</td>\n",
       "      <td>low</td>\n",
       "      <td>Y</td>\n",
       "    </tr>\n",
       "    <tr>\n",
       "      <th>3</th>\n",
       "      <td>LP001006</td>\n",
       "      <td>Male</td>\n",
       "      <td>Yes</td>\n",
       "      <td>0</td>\n",
       "      <td>Not Graduate</td>\n",
       "      <td>No</td>\n",
       "      <td>1</td>\n",
       "      <td>Urban</td>\n",
       "      <td>low</td>\n",
       "      <td>Y</td>\n",
       "    </tr>\n",
       "    <tr>\n",
       "      <th>4</th>\n",
       "      <td>LP001008</td>\n",
       "      <td>Male</td>\n",
       "      <td>No</td>\n",
       "      <td>0</td>\n",
       "      <td>Graduate</td>\n",
       "      <td>No</td>\n",
       "      <td>1</td>\n",
       "      <td>Urban</td>\n",
       "      <td>medium</td>\n",
       "      <td>Y</td>\n",
       "    </tr>\n",
       "  </tbody>\n",
       "</table>\n",
       "</div>"
      ],
      "text/plain": [
       "  Application_ID Gender Married Dependents     Education Self_Employed   \n",
       "0       LP001002   Male      No          0      Graduate            No  \\\n",
       "1       LP001003   Male     Yes          1      Graduate            No   \n",
       "2       LP001005   Male     Yes          0      Graduate           Yes   \n",
       "3       LP001006   Male     Yes          0  Not Graduate            No   \n",
       "4       LP001008   Male      No          0      Graduate            No   \n",
       "\n",
       "   Credit_History Property_Area  Income Application_Status  \n",
       "0               1         Urban  medium                  Y  \n",
       "1               1         Rural  medium                  N  \n",
       "2               1         Urban     low                  Y  \n",
       "3               1         Urban     low                  Y  \n",
       "4               1         Urban  medium                  Y  "
      ]
     },
     "execution_count": 6,
     "metadata": {},
     "output_type": "execute_result"
    }
   ],
   "source": [
    "df_loan = pd.DataFrame(resp.json())\n",
    "df_loan.head()"
   ]
  },
  {
   "attachments": {},
   "cell_type": "markdown",
   "metadata": {},
   "source": [
    "Once Python reads data from the API, utilize PySpark to load data into RDBMS (SQL). The table name should be CDW-SAPP_loan_application in the database.\n",
    "\n",
    "Functional Requirements 4.3\n",
    "\n"
   ]
  },
  {
   "cell_type": "code",
   "execution_count": 7,
   "metadata": {},
   "outputs": [],
   "source": [
    "spark = SparkSession.builder.appName(\"loan\").getOrCreate()\n",
    "\n",
    "schema_loans = StructType([\n",
    "                            StructField(\"Application_ID\", StringType()),\n",
    "                            StructField(\"Gender\", StringType()),\n",
    "                            StructField(\"Married\", StringType()),\n",
    "                            StructField(\"Dependents\", StringType()),\n",
    "                            StructField(\"Education\", StringType()),\n",
    "                            StructField(\"Self_Employed\", StringType()),\n",
    "                            StructField(\"Credit_History\", StringType()),\n",
    "                            StructField(\"Property_Area\", StringType()),\n",
    "                            StructField(\"Income\", StringType()),\n",
    "                            StructField(\"Application_Status\", StringType())\n",
    "])"
   ]
  },
  {
   "cell_type": "code",
   "execution_count": 8,
   "metadata": {},
   "outputs": [
    {
     "name": "stdout",
     "output_type": "stream",
     "text": [
      "+--------------+------+-------+----------+------------+-------------+--------------+-------------+------+------------------+\n",
      "|Application_ID|Gender|Married|Dependents|   Education|Self_Employed|Credit_History|Property_Area|Income|Application_Status|\n",
      "+--------------+------+-------+----------+------------+-------------+--------------+-------------+------+------------------+\n",
      "|      LP001002|  Male|     No|         0|    Graduate|           No|             1|        Urban|medium|                 Y|\n",
      "|      LP001003|  Male|    Yes|         1|    Graduate|           No|             1|        Rural|medium|                 N|\n",
      "|      LP001005|  Male|    Yes|         0|    Graduate|          Yes|             1|        Urban|   low|                 Y|\n",
      "|      LP001006|  Male|    Yes|         0|Not Graduate|           No|             1|        Urban|   low|                 Y|\n",
      "|      LP001008|  Male|     No|         0|    Graduate|           No|             1|        Urban|medium|                 Y|\n",
      "|      LP001011|  Male|    Yes|         2|    Graduate|          Yes|             1|        Urban|medium|                 Y|\n",
      "|      LP001013|  Male|    Yes|         0|Not Graduate|           No|             1|        Urban|   low|                 Y|\n",
      "|      LP001014|  Male|    Yes|        3+|    Graduate|           No|             0|    Semiurban|   low|                 N|\n",
      "|      LP001018|  Male|    Yes|         2|    Graduate|           No|             1|        Urban|medium|                 Y|\n",
      "|      LP001020|  Male|    Yes|         1|    Graduate|           No|             1|    Semiurban|  high|                 N|\n",
      "|      LP001024|  Male|    Yes|         2|    Graduate|           No|             1|        Urban|   low|                 Y|\n",
      "|      LP001028|  Male|    Yes|         2|    Graduate|           No|             1|        Urban|   low|                 Y|\n",
      "|      LP001029|  Male|     No|         0|    Graduate|           No|             1|        Rural|   low|                 N|\n",
      "|      LP001030|  Male|    Yes|         2|    Graduate|           No|             1|        Urban|   low|                 Y|\n",
      "|      LP001032|  Male|     No|         0|    Graduate|           No|             1|        Urban|medium|                 Y|\n",
      "|      LP001036|Female|     No|         0|    Graduate|           No|             0|        Urban|   low|                 N|\n",
      "|      LP001038|  Male|    Yes|         0|Not Graduate|           No|             1|        Rural|medium|                 N|\n",
      "|      LP001043|  Male|    Yes|         0|Not Graduate|           No|             0|        Urban|medium|                 N|\n",
      "|      LP001046|  Male|    Yes|         1|    Graduate|           No|             1|        Urban|medium|                 Y|\n",
      "|      LP001047|  Male|    Yes|         0|Not Graduate|           No|             0|    Semiurban|   low|                 N|\n",
      "+--------------+------+-------+----------+------------+-------------+--------------+-------------+------+------------------+\n",
      "only showing top 20 rows\n",
      "\n"
     ]
    }
   ],
   "source": [
    "loans_df = spark.createDataFrame(get_load_data().json(), schema=schema_loans)\n",
    "loans_df.show()"
   ]
  },
  {
   "attachments": {},
   "cell_type": "markdown",
   "metadata": {},
   "source": [
    "Load data into the database"
   ]
  },
  {
   "cell_type": "code",
   "execution_count": 12,
   "metadata": {},
   "outputs": [],
   "source": [
    "#############################\n",
    "##  LOCAL DATABASE SERVER  ##\n",
    "#############################\n",
    "loans_df.write.format(\"jdbc\").mode(\"append\")\\\n",
    "                .option(\"driver\", \"com.mysql.cj.jdbc.Driver\")\\\n",
    "                .option(\"url\", \"jdbc:mysql://localhost:3306/creditcard_capstone\")\\\n",
    "                .option(\"user\", \"root\")\\\n",
    "                .option(\"dbtable\",\"cdw_sapp_loan_application\")\\\n",
    "                .option(\"password\", \"password\")\\\n",
    "                .option(\"header\", \"false\")\\\n",
    "                .save()"
   ]
  },
  {
   "cell_type": "code",
   "execution_count": 13,
   "metadata": {},
   "outputs": [
    {
     "data": {
      "text/plain": [
       "'\\nwith open(\\'../.secrets\\', \\'r\\') as f:\\n    CREDITCARD_CAPSTONE_PASSWORD = f.read()\\n\\nloans_df.write.format(\"jdbc\").mode(\"append\")                .option(\"driver\", \"com.mysql.cj.jdbc.Driver\")                .option(\"url\", \"jdbc:mysql://mikey.helioho.st:3306/michaelwschmidt_creditcard_capstone\")                .option(\"user\", \"michaelwschmidt_cc_capstone\")                .option(\"dbtable\",\"cdw_sapp_loan_application\")                .option(\"password\", CREDITCARD_CAPSTONE_PASSWORD)                .option(\"header\", \"false\")                .save()\\n'"
      ]
     },
     "execution_count": 13,
     "metadata": {},
     "output_type": "execute_result"
    }
   ],
   "source": [
    "#######################################################\n",
    "##  ONLINE SERVER  MAKE SURE THE HOST IS AVAILABLE  ##\n",
    "#######################################################\n",
    "'''\n",
    "with open('../.secrets', 'r') as f:\n",
    "    CREDITCARD_CAPSTONE_PASSWORD = f.read()\n",
    "\n",
    "loans_df.write.format(\"jdbc\").mode(\"append\")\\\n",
    "                .option(\"driver\", \"com.mysql.cj.jdbc.Driver\")\\\n",
    "                .option(\"url\", \"jdbc:mysql://mikey.helioho.st:3306/michaelwschmidt_creditcard_capstone\")\\\n",
    "                .option(\"user\", \"michaelwschmidt_cc_capstone\")\\\n",
    "                .option(\"dbtable\",\"cdw_sapp_loan_application\")\\\n",
    "                .option(\"password\", CREDITCARD_CAPSTONE_PASSWORD)\\\n",
    "                .option(\"header\", \"false\")\\\n",
    "                .save()\n",
    "'''"
   ]
  },
  {
   "attachments": {},
   "cell_type": "markdown",
   "metadata": {},
   "source": [
    "### 5. Functional Requirements - Data Analysis and Visualization for LOAN Application"
   ]
  },
  {
   "attachments": {},
   "cell_type": "markdown",
   "metadata": {},
   "source": [
    "Functional Requirements 5.1\n",
    "\n",
    "Find and plot the percentage of applications approved for self-employed applicants.\n",
    "\n",
    "\n"
   ]
  },
  {
   "cell_type": "code",
   "execution_count": 14,
   "metadata": {},
   "outputs": [],
   "source": [
    "#############################\n",
    "##  LOCAL DATABASE SERVER  ##\n",
    "#############################\n",
    "def query_db(query, printable=True):\n",
    "    try:\n",
    "        with open('../.secrets', 'r') as f:\n",
    "            CREDITCARD_CAPSTONE_PASSWORD = f.read()\n",
    "\n",
    "        conn = mysql.connector.connect(\n",
    "            user=\"root\",\n",
    "            password=\"password\",\n",
    "            host=\"localhost\",\n",
    "            port=3306,\n",
    "            database=\"creditcard_capstone\"\n",
    "        )\n",
    "\n",
    "        cur = conn.cursor()\n",
    "        cur.execute(query)\n",
    "        rows = cur.fetchall()\n",
    "        df = pd.read_sql_query(query, conn)\n",
    "\n",
    "    except mariadb.Error as e:\n",
    "        print(f\"ERROR connecting to MariaDB:  {e}\")\n",
    "\n",
    "    finally:\n",
    "        conn.close()\n",
    "        if not df.empty:\n",
    "            return df\n",
    "        else:\n",
    "            print(\"DATAFRAME IS EMPTY!  Something went wrong!\")"
   ]
  },
  {
   "cell_type": "code",
   "execution_count": 15,
   "metadata": {},
   "outputs": [
    {
     "data": {
      "text/plain": [
       "'\\ndef query_db(query, printable=True):\\n    try:\\n        with open(\\'../.secrets\\', \\'r\\') as f:\\n            CREDITCARD_CAPSTONE_PASSWORD = f.read()\\n\\n        conn = mariadb.connect(\\n            user=\"michaelwschmidt_cc_capstone\",\\n            password=CREDITCARD_CAPSTONE_PASSWORD,\\n            host=\"tommy2.heliohost.org\",\\n            port=3306,\\n            database=\"michaelwschmidt_creditcard_capstone\"\\n        )\\n\\n        cur = conn.cursor()\\n        cur.execute(query)\\n        rows = cur.fetchall()\\n        df = pd.read_sql_query(query, conn)\\n\\n    except mariadb.Error as e:\\n        print(f\"ERROR connecting to MariaDB:  {e}\")\\n\\n    finally:\\n        conn.close()\\n        if not df.empty:\\n            return df\\n        else:\\n            print(\"DATAFRAME IS EMPTY!  Something went wrong!\")\\n'"
      ]
     },
     "execution_count": 15,
     "metadata": {},
     "output_type": "execute_result"
    }
   ],
   "source": [
    "#######################################################\n",
    "##  ONLINE SERVER  MAKE SURE THE HOST IS AVAILABLE  ##\n",
    "#######################################################\n",
    "'''\n",
    "def query_db(query, printable=True):\n",
    "    try:\n",
    "        with open('../.secrets', 'r') as f:\n",
    "            CREDITCARD_CAPSTONE_PASSWORD = f.read()\n",
    "\n",
    "        conn = mariadb.connect(\n",
    "            user=\"michaelwschmidt_cc_capstone\",\n",
    "            password=CREDITCARD_CAPSTONE_PASSWORD,\n",
    "            host=\"tommy2.heliohost.org\",\n",
    "            port=3306,\n",
    "            database=\"michaelwschmidt_creditcard_capstone\"\n",
    "        )\n",
    "\n",
    "        cur = conn.cursor()\n",
    "        cur.execute(query)\n",
    "        rows = cur.fetchall()\n",
    "        df = pd.read_sql_query(query, conn)\n",
    "\n",
    "    except mariadb.Error as e:\n",
    "        print(f\"ERROR connecting to MariaDB:  {e}\")\n",
    "\n",
    "    finally:\n",
    "        conn.close()\n",
    "        if not df.empty:\n",
    "            return df\n",
    "        else:\n",
    "            print(\"DATAFRAME IS EMPTY!  Something went wrong!\")\n",
    "'''"
   ]
  },
  {
   "cell_type": "code",
   "execution_count": 16,
   "metadata": {},
   "outputs": [
    {
     "name": "stderr",
     "output_type": "stream",
     "text": [
      "C:\\Users\\mikey\\AppData\\Local\\Temp\\ipykernel_25732\\824974882.py:20: UserWarning: pandas only supports SQLAlchemy connectable (engine/connection) or database string URI or sqlite3 DBAPI2 connection. Other DBAPI2 objects are not tested. Please consider using SQLAlchemy.\n",
      "  df = pd.read_sql_query(query, conn)\n"
     ]
    },
    {
     "data": {
      "text/html": [
       "<div>\n",
       "<style scoped>\n",
       "    .dataframe tbody tr th:only-of-type {\n",
       "        vertical-align: middle;\n",
       "    }\n",
       "\n",
       "    .dataframe tbody tr th {\n",
       "        vertical-align: top;\n",
       "    }\n",
       "\n",
       "    .dataframe thead th {\n",
       "        text-align: right;\n",
       "    }\n",
       "</style>\n",
       "<table border=\"1\" class=\"dataframe\">\n",
       "  <thead>\n",
       "    <tr style=\"text-align: right;\">\n",
       "      <th></th>\n",
       "      <th>count</th>\n",
       "    </tr>\n",
       "    <tr>\n",
       "      <th>application_status</th>\n",
       "      <th></th>\n",
       "    </tr>\n",
       "  </thead>\n",
       "  <tbody>\n",
       "    <tr>\n",
       "      <th>Approved</th>\n",
       "      <td>46</td>\n",
       "    </tr>\n",
       "    <tr>\n",
       "      <th>Rejected</th>\n",
       "      <td>24</td>\n",
       "    </tr>\n",
       "  </tbody>\n",
       "</table>\n",
       "</div>"
      ],
      "text/plain": [
       "                    count\n",
       "application_status       \n",
       "Approved               46\n",
       "Rejected               24"
      ]
     },
     "execution_count": 16,
     "metadata": {},
     "output_type": "execute_result"
    }
   ],
   "source": [
    "self_emp_df = query_db(\"SELECT application_status, count(application_status) count FROM cdw_sapp_loan_application WHERE self_employed='Yes' GROUP BY 1\")\n",
    "self_emp_df = self_emp_df.replace(['Y'], 'Approved').replace(['N'], 'Rejected') \n",
    "self_emp_df = self_emp_df.set_index(self_emp_df.columns[0])\n",
    "\n",
    "self_emp_df.head()"
   ]
  },
  {
   "cell_type": "code",
   "execution_count": 24,
   "metadata": {},
   "outputs": [
    {
     "data": {
      "text/plain": [
       "''"
      ]
     },
     "execution_count": 24,
     "metadata": {},
     "output_type": "execute_result"
    },
    {
     "data": {
      "image/png": "[encoded data removed]",
      "text/plain": [
       "<Figure size 1500x600 with 1 Axes>"
      ]
     },
     "metadata": {},
     "output_type": "display_data"
    }
   ],
   "source": [
    "self_emp_df[\"count\"].plot(kind=\"pie\",\n",
    "                            figsize=(15,6),\n",
    "                            autopct='%1.1f%%',\n",
    "                            shadow=True,\n",
    "                            pctdistance=.80,\n",
    "                            colors=('limegreen','gray'),\n",
    "                            explode=[0, 0.07])\n",
    "\n",
    "plt.title(\"Percentage of Applications Approved for Self-employed\")\n",
    "plt.ylabel('')\n",
    ";"
   ]
  },
  {
   "attachments": {},
   "cell_type": "markdown",
   "metadata": {},
   "source": [
    "Functional Requirements 5.2\n",
    "\n",
    "Find the percentage of rejection for married male applicants.\n",
    "\n",
    "\n"
   ]
  },
  {
   "cell_type": "code",
   "execution_count": 18,
   "metadata": {},
   "outputs": [
    {
     "name": "stderr",
     "output_type": "stream",
     "text": [
      "C:\\Users\\mikey\\AppData\\Local\\Temp\\ipykernel_25732\\824974882.py:20: UserWarning: pandas only supports SQLAlchemy connectable (engine/connection) or database string URI or sqlite3 DBAPI2 connection. Other DBAPI2 objects are not tested. Please consider using SQLAlchemy.\n",
      "  df = pd.read_sql_query(query, conn)\n"
     ]
    },
    {
     "data": {
      "text/html": [
       "<div>\n",
       "<style scoped>\n",
       "    .dataframe tbody tr th:only-of-type {\n",
       "        vertical-align: middle;\n",
       "    }\n",
       "\n",
       "    .dataframe tbody tr th {\n",
       "        vertical-align: top;\n",
       "    }\n",
       "\n",
       "    .dataframe thead th {\n",
       "        text-align: right;\n",
       "    }\n",
       "</style>\n",
       "<table border=\"1\" class=\"dataframe\">\n",
       "  <thead>\n",
       "    <tr style=\"text-align: right;\">\n",
       "      <th></th>\n",
       "      <th>count</th>\n",
       "    </tr>\n",
       "    <tr>\n",
       "      <th>application_status</th>\n",
       "      <th></th>\n",
       "    </tr>\n",
       "  </thead>\n",
       "  <tbody>\n",
       "    <tr>\n",
       "      <th>Approved</th>\n",
       "      <td>46</td>\n",
       "    </tr>\n",
       "    <tr>\n",
       "      <th>Rejected</th>\n",
       "      <td>24</td>\n",
       "    </tr>\n",
       "  </tbody>\n",
       "</table>\n",
       "</div>"
      ],
      "text/plain": [
       "                    count\n",
       "application_status       \n",
       "Approved               46\n",
       "Rejected               24"
      ]
     },
     "execution_count": 18,
     "metadata": {},
     "output_type": "execute_result"
    }
   ],
   "source": [
    "married_male_df = query_db(\"SELECT application_status, count(*) count \\\n",
    "                        FROM cdw_sapp_loan_application \\\n",
    "                        WHERE married = 'Yes' \\\n",
    "                        AND gender = 'Male' \\\n",
    "                        GROUP BY 1\")\n",
    "married_male_df = self_emp_df.replace(['Y'], 'Approved').replace(['N'], 'Rejected') \n",
    "\n",
    "married_male_df.head()"
   ]
  },
  {
   "cell_type": "code",
   "execution_count": 25,
   "metadata": {},
   "outputs": [
    {
     "data": {
      "text/plain": [
       "''"
      ]
     },
     "execution_count": 25,
     "metadata": {},
     "output_type": "execute_result"
    },
    {
     "data": {
      "image/png": "[encoded data removed]",
      "text/plain": [
       "<Figure size 1500x600 with 1 Axes>"
      ]
     },
     "metadata": {},
     "output_type": "display_data"
    },
    {
     "name": "stderr",
     "output_type": "stream",
     "text": [
      "----------------------------------------\n",
      "Exception occurred during processing of request from ('127.0.0.1', 4662)\n",
      "Traceback (most recent call last):\n",
      "  File \"c:\\Users\\mikey\\AppData\\Local\\Programs\\Python\\Python310\\lib\\socketserver.py\", line 316, in _handle_request_noblock\n",
      "    self.process_request(request, client_address)\n",
      "  File \"c:\\Users\\mikey\\AppData\\Local\\Programs\\Python\\Python310\\lib\\socketserver.py\", line 347, in process_request\n",
      "    self.finish_request(request, client_address)\n",
      "  File \"c:\\Users\\mikey\\AppData\\Local\\Programs\\Python\\Python310\\lib\\socketserver.py\", line 360, in finish_request\n",
      "    self.RequestHandlerClass(request, client_address, self)\n",
      "  File \"c:\\Users\\mikey\\AppData\\Local\\Programs\\Python\\Python310\\lib\\socketserver.py\", line 747, in __init__\n",
      "    self.handle()\n",
      "  File \"c:\\Users\\mikey\\AppData\\Local\\Programs\\Python\\Python310\\lib\\site-packages\\pyspark\\accumulators.py\", line 281, in handle\n",
      "    poll(accum_updates)\n",
      "  File \"c:\\Users\\mikey\\AppData\\Local\\Programs\\Python\\Python310\\lib\\site-packages\\pyspark\\accumulators.py\", line 253, in poll\n",
      "    if func():\n",
      "  File \"c:\\Users\\mikey\\AppData\\Local\\Programs\\Python\\Python310\\lib\\site-packages\\pyspark\\accumulators.py\", line 257, in accum_updates\n",
      "    num_updates = read_int(self.rfile)\n",
      "  File \"c:\\Users\\mikey\\AppData\\Local\\Programs\\Python\\Python310\\lib\\site-packages\\pyspark\\serializers.py\", line 594, in read_int\n",
      "    length = stream.read(4)\n",
      "  File \"c:\\Users\\mikey\\AppData\\Local\\Programs\\Python\\Python310\\lib\\socket.py\", line 705, in readinto\n",
      "    return self._sock.recv_into(b)\n",
      "ConnectionResetError: [WinError 10054] An existing connection was forcibly closed by the remote host\n",
      "----------------------------------------\n"
     ]
    }
   ],
   "source": [
    "married_male_df[\"count\"].plot(kind=\"pie\",\n",
    "                            figsize=(15,6),\n",
    "                            autopct='%1.1f%%',\n",
    "                            shadow=True,\n",
    "                            pctdistance=.80,\n",
    "                            colors=('gray','r'),\n",
    "                            explode=[0, 0.07])\n",
    "\n",
    "plt.title(\"Percentage of Rejection for Married Male Applicants\")\n",
    "plt.ylabel('')\n",
    ";"
   ]
  },
  {
   "attachments": {},
   "cell_type": "markdown",
   "metadata": {},
   "source": [
    "Functional Requirements 5.3\n",
    "\n",
    "Find and plot the top three months with the largest transaction data.\n",
    "\n",
    "\n"
   ]
  },
  {
   "cell_type": "code",
   "execution_count": 20,
   "metadata": {},
   "outputs": [
    {
     "name": "stderr",
     "output_type": "stream",
     "text": [
      "C:\\Users\\mikey\\AppData\\Local\\Temp\\ipykernel_25732\\824974882.py:20: UserWarning: pandas only supports SQLAlchemy connectable (engine/connection) or database string URI or sqlite3 DBAPI2 connection. Other DBAPI2 objects are not tested. Please consider using SQLAlchemy.\n",
      "  df = pd.read_sql_query(query, conn)\n"
     ]
    },
    {
     "data": {
      "text/plain": [
       "''"
      ]
     },
     "execution_count": 20,
     "metadata": {},
     "output_type": "execute_result"
    },
    {
     "data": {
      "image/png": "[encoded data removed]",
      "text/plain": [
       "<Figure size 640x480 with 1 Axes>"
      ]
     },
     "metadata": {},
     "output_type": "display_data"
    }
   ],
   "source": [
    "def addlabels(x,y):\n",
    "    for i in range(len(x)):\n",
    "        plt.text(i, y[i], y[i], ha='center')\n",
    "\n",
    "top_3_months_trans_df = query_db(\"SELECT CONCAT( DATE_FORMAT(DATE(timeid),'%M'),'-', YEAR(DATE(timeid)) ) date, count(*) count  \\\n",
    "                                 FROM cdw_sapp_credit_card \\\n",
    "                                 GROUP BY 1 \\\n",
    "                                 ORDER BY count desc \\\n",
    "                                 LIMIT 3\")\n",
    "top_3_months_trans_df.head()\n",
    "top_3_months_trans_df.set_index(\"date\", inplace=True)\n",
    "top_3_months_trans_df.plot(kind='bar', legend=False)\n",
    "plt.title(\"Top 3 Months with the Largest Number of Transactions\")\n",
    "plt.xlabel(\"DATE\")\n",
    "plt.ylabel(\"Number of Transactions\")\n",
    "plt.xticks(rotation=0)\n",
    "addlabels(top_3_months_trans_df.index, top_3_months_trans_df['count'])\n",
    ";"
   ]
  },
  {
   "attachments": {},
   "cell_type": "markdown",
   "metadata": {},
   "source": [
    "Functional Requirements 5.4\n",
    "\n",
    "Find and plot which branch processed the highest total dollar value of healthcare transactions.\n",
    "\n"
   ]
  },
  {
   "cell_type": "code",
   "execution_count": 21,
   "metadata": {},
   "outputs": [
    {
     "name": "stderr",
     "output_type": "stream",
     "text": [
      "C:\\Users\\mikey\\AppData\\Local\\Temp\\ipykernel_25732\\824974882.py:20: UserWarning: pandas only supports SQLAlchemy connectable (engine/connection) or database string URI or sqlite3 DBAPI2 connection. Other DBAPI2 objects are not tested. Please consider using SQLAlchemy.\n",
      "  df = pd.read_sql_query(query, conn)\n"
     ]
    },
    {
     "data": {
      "text/html": [
       "<div>\n",
       "<style scoped>\n",
       "    .dataframe tbody tr th:only-of-type {\n",
       "        vertical-align: middle;\n",
       "    }\n",
       "\n",
       "    .dataframe tbody tr th {\n",
       "        vertical-align: top;\n",
       "    }\n",
       "\n",
       "    .dataframe thead th {\n",
       "        text-align: right;\n",
       "    }\n",
       "</style>\n",
       "<table border=\"1\" class=\"dataframe\">\n",
       "  <thead>\n",
       "    <tr style=\"text-align: right;\">\n",
       "      <th></th>\n",
       "      <th>total</th>\n",
       "    </tr>\n",
       "    <tr>\n",
       "      <th>branch_code</th>\n",
       "      <th></th>\n",
       "    </tr>\n",
       "  </thead>\n",
       "  <tbody>\n",
       "    <tr>\n",
       "      <th>25</th>\n",
       "      <td>4370.18</td>\n",
       "    </tr>\n",
       "    <tr>\n",
       "      <th>60</th>\n",
       "      <td>4072.04</td>\n",
       "    </tr>\n",
       "    <tr>\n",
       "      <th>83</th>\n",
       "      <td>4003.37</td>\n",
       "    </tr>\n",
       "    <tr>\n",
       "      <th>36</th>\n",
       "      <td>3823.87</td>\n",
       "    </tr>\n",
       "    <tr>\n",
       "      <th>111</th>\n",
       "      <td>3720.27</td>\n",
       "    </tr>\n",
       "    <tr>\n",
       "      <th>90</th>\n",
       "      <td>3697.16</td>\n",
       "    </tr>\n",
       "    <tr>\n",
       "      <th>21</th>\n",
       "      <td>3651.74</td>\n",
       "    </tr>\n",
       "    <tr>\n",
       "      <th>109</th>\n",
       "      <td>3603.67</td>\n",
       "    </tr>\n",
       "    <tr>\n",
       "      <th>42</th>\n",
       "      <td>3603.25</td>\n",
       "    </tr>\n",
       "    <tr>\n",
       "      <th>70</th>\n",
       "      <td>3594.35</td>\n",
       "    </tr>\n",
       "  </tbody>\n",
       "</table>\n",
       "</div>"
      ],
      "text/plain": [
       "               total\n",
       "branch_code         \n",
       "25           4370.18\n",
       "60           4072.04\n",
       "83           4003.37\n",
       "36           3823.87\n",
       "111          3720.27\n",
       "90           3697.16\n",
       "21           3651.74\n",
       "109          3603.67\n",
       "42           3603.25\n",
       "70           3594.35"
      ]
     },
     "execution_count": 21,
     "metadata": {},
     "output_type": "execute_result"
    }
   ],
   "source": [
    "branch_highest_healthcare_df = query_db(\"SELECT b.branch_code, sum(transaction_value) total \\\n",
    "                                FROM cdw_sapp_credit_card cc \\\n",
    "                                JOIN cdw_sapp_branch b \\\n",
    "                                    ON cc.BRANCH_CODE = b.BRANCH_CODE \\\n",
    "                                WHERE transaction_type = 'Healthcare' \\\n",
    "                                GROUP BY b.branch_code \\\n",
    "                                ORDER BY 2 desc \\\n",
    "                                LIMIT 10\")\n",
    "\n",
    "#branch_highest_healthcare_df.set_index(\"branch_code\", inplace=True)\n",
    "branch_highest_healthcare_df['branch_code'] = branch_highest_healthcare_df['branch_code'].astype('str')\n",
    "branch_highest_healthcare_df.set_index(\"branch_code\", inplace=True)\n",
    "branch_highest_healthcare_df"
   ]
  },
  {
   "cell_type": "code",
   "execution_count": 22,
   "metadata": {},
   "outputs": [
    {
     "data": {
      "image/png": "[encoded data removed]",
      "text/plain": [
       "<Figure size 640x480 with 1 Axes>"
      ]
     },
     "metadata": {},
     "output_type": "display_data"
    }
   ],
   "source": [
    "branch_highest_healthcare_df.plot(kind=\"bar\")\n",
    "plt.title(\"Branch processed the highest value of healthcare transactions\")\n",
    "plt.xlabel(\"Branch Codes\")\n",
    "plt.ylabel(\"Total Dollars\")\n",
    "plt.xticks(rotation=0)\n",
    "addlabels(branch_highest_healthcare_df.index, branch_highest_healthcare_df[\"total\"].round().astype(int))"
   ]
  }
 ],
 "metadata": {
  "kernelspec": {
   "display_name": "Python 3",
   "language": "python",
   "name": "python3"
  },
  "language_info": {
   "codemirror_mode": {
    "name": "ipython",
    "version": 3
   },
   "file_extension": ".py",
   "mimetype": "text/x-python",
   "name": "python",
   "nbconvert_exporter": "python",
   "pygments_lexer": "ipython3",
   "version": "3.10.10"
  },
  "orig_nbformat": 4
 },
 "nbformat": 4,
 "nbformat_minor": 2
}
