{
 "cells": [
  {
   "attachments": {},
   "cell_type": "markdown",
   "metadata": {},
   "source": [
    "# Explore Data Files and API Endpoint"
   ]
  },
  {
   "cell_type": "code",
   "execution_count": 25,
   "metadata": {},
   "outputs": [],
   "source": [
    "import pandas\n",
    "import json\n",
    "import requests"
   ]
  },
  {
   "attachments": {},
   "cell_type": "markdown",
   "metadata": {},
   "source": [
    "### Read in files"
   ]
  },
  {
   "cell_type": "code",
   "execution_count": 12,
   "metadata": {},
   "outputs": [
    {
     "name": "stdout",
     "output_type": "stream",
     "text": [
      "{'FIRST_NAME': 'Alec', 'MIDDLE_NAME': 'Wm', 'LAST_NAME': 'Hooper', 'SSN': 123456100, 'CREDIT_CARD_NO': '4210653310061055', 'APT_NO': '656', 'STREET_NAME': 'Main Street North', 'CUST_CITY': 'Natchez', 'CUST_STATE': 'MS', 'CUST_COUNTRY': 'United States', 'CUST_ZIP': '39120', 'CUST_PHONE': 1237818, 'CUST_EMAIL': 'AHooper@example.com', 'LAST_UPDATED': '2018-04-21T12:49:02.000-04:00'}\n",
      "{'TRANSACTION_ID': 1, 'DAY': 14, 'MONTH': 2, 'YEAR': 2018, 'CREDIT_CARD_NO': '4210653349028689', 'CUST_SSN': 123459988, 'BRANCH_CODE': 114, 'TRANSACTION_TYPE': 'Education', 'TRANSACTION_VALUE': 78.9}\n",
      "{'BRANCH_CODE': 1, 'BRANCH_NAME': 'Example Bank', 'BRANCH_STREET': 'Bridle Court', 'BRANCH_CITY': 'Lakeville', 'BRANCH_STATE': 'MN', 'BRANCH_ZIP': 55044, 'BRANCH_PHONE': '1234565276', 'LAST_UPDATED': '2018-04-18T16:51:47.000-04:00'}\n"
     ]
    }
   ],
   "source": [
    "with open(\"../data_files/cdw_sapp_customer.json\", \"r\") as f:\n",
    "    cust_data = json.loads(f.readline())\n",
    "    print(cust_data)\n",
    "\n",
    "with open(\"../data_files/cdw_sapp_credit.json\", \"r\") as f:\n",
    "    credit_data = json.loads(f.readline())\n",
    "    print(credit_data)\n",
    "\n",
    "with open(\"../data_files/cdw_sapp_branch.json\", \"r\") as f:\n",
    "    branch_data = json.loads(f.readline())\n",
    "    print(branch_data)\n",
    "\n"
   ]
  },
  {
   "attachments": {},
   "cell_type": "markdown",
   "metadata": {},
   "source": [
    "### Get the column names"
   ]
  },
  {
   "cell_type": "code",
   "execution_count": 24,
   "metadata": {},
   "outputs": [
    {
     "name": "stdout",
     "output_type": "stream",
     "text": [
      " ========= CUSTOMER DATA ========= \n",
      "FIRST_NAME ,\n",
      "MIDDLE_NAME ,\n",
      "LAST_NAME ,\n",
      "SSN ,\n",
      "CREDIT_CARD_NO ,\n",
      "APT_NO ,\n",
      "STREET_NAME ,\n",
      "CUST_CITY ,\n",
      "CUST_STATE ,\n",
      "CUST_COUNTRY ,\n",
      "CUST_ZIP ,\n",
      "CUST_PHONE ,\n",
      "CUST_EMAIL ,\n",
      "LAST_UPDATED ,\n",
      " ========= CREDIT CARD DATA ========= \n",
      "TRANSACTION_ID ,\n",
      "DAY ,\n",
      "MONTH ,\n",
      "YEAR ,\n",
      "CREDIT_CARD_NO ,\n",
      "CUST_SSN ,\n",
      "BRANCH_CODE ,\n",
      "TRANSACTION_TYPE ,\n",
      "TRANSACTION_VALUE ,\n",
      " ========= BRANCH DATA ========= \n",
      "BRANCH_CODE ,\n",
      "BRANCH_NAME ,\n",
      "BRANCH_STREET ,\n",
      "BRANCH_CITY ,\n",
      "BRANCH_STATE ,\n",
      "BRANCH_ZIP ,\n",
      "BRANCH_PHONE ,\n",
      "LAST_UPDATED ,\n"
     ]
    },
    {
     "data": {
      "text/plain": [
       "[None, None, None, None, None, None, None, None]"
      ]
     },
     "execution_count": 24,
     "metadata": {},
     "output_type": "execute_result"
    }
   ],
   "source": [
    "print(\" ========= CUSTOMER DATA ========= \")\n",
    "[print(k, ',') for k in cust_data.keys()]\n",
    "print(\" ========= CREDIT CARD DATA ========= \")\n",
    "[print(k, ',') for k in credit_data.keys()]\n",
    "print(\" ========= BRANCH DATA ========= \")\n",
    "[print(k, ',') for k in branch_data.keys()]\n",
    "\n"
   ]
  },
  {
   "attachments": {},
   "cell_type": "markdown",
   "metadata": {},
   "source": [
    "### Using the above columns to create the database tables \n",
    "### See the create_tables.ddl file"
   ]
  },
  {
   "cell_type": "code",
   "execution_count": null,
   "metadata": {},
   "outputs": [],
   "source": []
  }
 ],
 "metadata": {
  "kernelspec": {
   "display_name": "Python 3",
   "language": "python",
   "name": "python3"
  },
  "language_info": {
   "codemirror_mode": {
    "name": "ipython",
    "version": 3
   },
   "file_extension": ".py",
   "mimetype": "text/x-python",
   "name": "python",
   "nbconvert_exporter": "python",
   "pygments_lexer": "ipython3",
   "version": "3.10.11"
  },
  "orig_nbformat": 4
 },
 "nbformat": 4,
 "nbformat_minor": 2
}
