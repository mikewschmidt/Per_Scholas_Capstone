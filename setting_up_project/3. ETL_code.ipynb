{
 "cells": [
  {
   "attachments": {},
   "cell_type": "markdown",
   "metadata": {},
   "source": [
    "# ETL CODE\n",
    "---"
   ]
  },
  {
   "attachments": {},
   "cell_type": "markdown",
   "metadata": {},
   "source": [
    "## Extract data from datafiles and API\n"
   ]
  },
  {
   "cell_type": "code",
   "execution_count": 1,
   "metadata": {},
   "outputs": [],
   "source": [
    "import requests\n",
    "import os\n",
    "from pyspark.sql import SparkSession\n",
    "from pyspark.sql.types import StructType, StructField, IntegerType, StringType, TimestampType, FloatType\n",
    "from pyspark.sql.functions import col, initcap, lower, concat_ws, concat, lit, substring, when, lpad\n",
    "\n",
    "spark = SparkSession.builder.appName(\"credit_card\").getOrCreate()"
   ]
  },
  {
   "attachments": {},
   "cell_type": "markdown",
   "metadata": {},
   "source": [
    "Create the schemas for the data"
   ]
  },
  {
   "cell_type": "code",
   "execution_count": 2,
   "metadata": {},
   "outputs": [],
   "source": [
    "schema_branches = StructType([\n",
    "                            StructField(\"BRANCH_CODE\", IntegerType(), False),\n",
    "                            StructField(\"BRANCH_NAME\", StringType()), \n",
    "                            StructField(\"BRANCH_STREET\", StringType()),\n",
    "                            StructField(\"BRANCH_CITY\", StringType()),\n",
    "                            StructField(\"BRANCH_STATE\", StringType()),\n",
    "                            StructField(\"BRANCH_ZIP\", StringType()),\n",
    "                            StructField(\"BRANCH_PHONE\", StringType()),\n",
    "                            StructField(\"LAST_UPDATED\", TimestampType())\n",
    "])\n",
    "\n",
    "schema_customers = StructType([\n",
    "                            StructField(\"FIRST_NAME\", StringType()),\n",
    "                            StructField(\"MIDDLE_NAME\", StringType()),\n",
    "                            StructField(\"LAST_NAME\", StringType()),\n",
    "                            StructField(\"SSN\", IntegerType(), False),\n",
    "                            StructField(\"CREDIT_CARD_NO\", StringType()),\n",
    "                            StructField(\"APT_NO\", StringType()),\n",
    "                            StructField(\"STREET_NAME\", StringType()),\n",
    "                            StructField(\"CUST_CITY\", StringType()),\n",
    "                            StructField(\"CUST_STATE\", StringType()),\n",
    "                            StructField(\"CUST_COUNTRY\", StringType()),\n",
    "                            StructField(\"CUST_ZIP\", StringType()),\n",
    "                            StructField(\"CUST_PHONE\", StringType()),\n",
    "                            StructField(\"CUST_EMAIL\", StringType()),\n",
    "                            StructField(\"LAST_UPDATED\", TimestampType())\n",
    "])\n",
    "\n",
    "schema_cc_transactions = StructType([\n",
    "                            StructField(\"TRANSACTION_ID\", IntegerType(), False),\n",
    "                            StructField(\"DAY\", IntegerType()),\n",
    "                            StructField(\"MONTH\", IntegerType()),\n",
    "                            StructField(\"YEAR\", IntegerType()),\n",
    "                            StructField(\"CREDIT_CARD_NO\", StringType()),\n",
    "                            StructField(\"CUST_SSN\", StringType()),\n",
    "                            StructField(\"BRANCH_CODE\", IntegerType()),\n",
    "                            StructField(\"TRANSACTION_TYPE\", StringType()),\n",
    "                            StructField(\"TRANSACTION_VALUE\", FloatType())\n",
    "])\n",
    "\n",
    "schema_loans = StructType([\n",
    "                            StructField(\"Application_ID\", StringType()),\n",
    "                            StructField(\"Gender\", StringType()),\n",
    "                            StructField(\"Married\", StringType()),\n",
    "                            StructField(\"Dependents\", StringType()),\n",
    "                            StructField(\"Education\", StringType()),\n",
    "                            StructField(\"Self_Employed\", StringType()),\n",
    "                            StructField(\"Credit_History\", StringType()),\n",
    "                            StructField(\"Property_Area\", StringType()),\n",
    "                            StructField(\"Income\", StringType()),\n",
    "                            StructField(\"Application_Status\", StringType())\n",
    "])\n"
   ]
  },
  {
   "cell_type": "code",
   "execution_count": 3,
   "metadata": {},
   "outputs": [
    {
     "name": "stdout",
     "output_type": "stream",
     "text": [
      "+--------------+------+-------+----------+------------+-------------+--------------+-------------+------+------------------+\n",
      "|Application_ID|Gender|Married|Dependents|   Education|Self_Employed|Credit_History|Property_Area|Income|Application_Status|\n",
      "+--------------+------+-------+----------+------------+-------------+--------------+-------------+------+------------------+\n",
      "|      LP001002|  Male|     No|         0|    Graduate|           No|             1|        Urban|medium|                 Y|\n",
      "|      LP001003|  Male|    Yes|         1|    Graduate|           No|             1|        Rural|medium|                 N|\n",
      "|      LP001005|  Male|    Yes|         0|    Graduate|          Yes|             1|        Urban|   low|                 Y|\n",
      "|      LP001006|  Male|    Yes|         0|Not Graduate|           No|             1|        Urban|   low|                 Y|\n",
      "|      LP001008|  Male|     No|         0|    Graduate|           No|             1|        Urban|medium|                 Y|\n",
      "+--------------+------+-------+----------+------------+-------------+--------------+-------------+------+------------------+\n",
      "only showing top 5 rows\n",
      "\n"
     ]
    }
   ],
   "source": [
    "resp = requests.get(\"https://raw.githubusercontent.com/platformps/LoanDataset/main/loan_data.json\")\n",
    "customers_df = spark.createDataFrame(resp.json(), schema=schema_loans)\n",
    "customers_df.show(5)"
   ]
  },
  {
   "cell_type": "code",
   "execution_count": 4,
   "metadata": {},
   "outputs": [
    {
     "name": "stdout",
     "output_type": "stream",
     "text": [
      "+-----------+------------+-----------------+-----------------+------------+----------+------------+-------------------+\n",
      "|BRANCH_CODE| BRANCH_NAME|    BRANCH_STREET|      BRANCH_CITY|BRANCH_STATE|BRANCH_ZIP|BRANCH_PHONE|       LAST_UPDATED|\n",
      "+-----------+------------+-----------------+-----------------+------------+----------+------------+-------------------+\n",
      "|          1|Example Bank|     Bridle Court|        Lakeville|          MN|     55044|  1234565276|2018-04-18 15:51:47|\n",
      "|        999|   TEST Bank|      Night Court|         TreeCity|          MM|      null|  1234567890|2018-04-18 15:51:47|\n",
      "|          2|Example Bank|Washington Street|          Huntley|          IL|     60142|  1234618993|2018-04-18 15:51:47|\n",
      "|          3|Example Bank|    Warren Street|SouthRichmondHill|          NY|     11419|  1234985926|2018-04-18 15:51:47|\n",
      "|          4|Example Bank| Cleveland Street|       Middleburg|          FL|     32068|  1234663064|2018-04-18 15:51:47|\n",
      "+-----------+------------+-----------------+-----------------+------------+----------+------------+-------------------+\n",
      "only showing top 5 rows\n",
      "\n",
      "+----------+-----------+---------+---------+----------------+------+-----------------+------------+----------+-------------+--------+----------+-------------------+-------------------+\n",
      "|FIRST_NAME|MIDDLE_NAME|LAST_NAME|      SSN|  CREDIT_CARD_NO|APT_NO|      STREET_NAME|   CUST_CITY|CUST_STATE| CUST_COUNTRY|CUST_ZIP|CUST_PHONE|         CUST_EMAIL|       LAST_UPDATED|\n",
      "+----------+-----------+---------+---------+----------------+------+-----------------+------------+----------+-------------+--------+----------+-------------------+-------------------+\n",
      "|      Alec|         Wm|   Hooper|123456100|4210653310061055|   656|Main Street North|     Natchez|        MS|United States|   39120|   1237818|AHooper@example.com|2018-04-21 11:49:02|\n",
      "|      Etta|    Brendan|   Holman|123453023|4210653310102868|   829|    Redwood Drive|Wethersfield|        CT|United States|   06109|   1238933|EHolman@example.com|2018-04-21 11:49:02|\n",
      "|    Wilber|   Ezequiel|   Dunham|123454487|4210653310116272|   683| 12th Street East|     Huntley|        IL|United States|   60142|   1243018|WDunham@example.com|2018-04-21 11:49:02|\n",
      "|   Eugenio|      Trina|    Hardy|123459758|4210653310195948|   253|Country Club Road|   NewBerlin|        WI|United States|   53151|   1243215| EHardy@example.com|2018-04-21 11:49:02|\n",
      "|   Wilfred|        May|    Ayers|123454431|4210653310356919|   301|   Madison Street|      ElPaso|        TX|United States|   79930|   1242074| WAyers@example.com|2018-04-21 11:49:02|\n",
      "+----------+-----------+---------+---------+----------------+------+-----------------+------------+----------+-------------+--------+----------+-------------------+-------------------+\n",
      "only showing top 5 rows\n",
      "\n",
      "+--------------+---+-----+----+----------------+---------+-----------+----------------+-----------------+\n",
      "|TRANSACTION_ID|DAY|MONTH|YEAR|  CREDIT_CARD_NO| CUST_SSN|BRANCH_CODE|TRANSACTION_TYPE|TRANSACTION_VALUE|\n",
      "+--------------+---+-----+----+----------------+---------+-----------+----------------+-----------------+\n",
      "|             1| 14|    2|2018|4210653349028689|123459988|        114|       Education|             78.9|\n",
      "|             2| 20|    3|2018|4210653349028689|123459988|         35|   Entertainment|            14.24|\n",
      "|             3|  8|    7|2018|4210653349028689|123459988|        160|         Grocery|             56.7|\n",
      "|             4| 19|    4|2018|4210653349028689|123459988|        114|   Entertainment|            59.73|\n",
      "|             5| 10|   10|2018|4210653349028689|123459988|         93|             Gas|             3.59|\n",
      "+--------------+---+-----+----+----------------+---------+-----------+----------------+-----------------+\n",
      "only showing top 5 rows\n",
      "\n",
      "+--------------+------+-------+----------+------------+-------------+--------------+-------------+------+------------------+\n",
      "|Application_ID|Gender|Married|Dependents|   Education|Self_Employed|Credit_History|Property_Area|Income|Application_Status|\n",
      "+--------------+------+-------+----------+------------+-------------+--------------+-------------+------+------------------+\n",
      "|      LP001002|  Male|     No|         0|    Graduate|           No|             1|        Urban|medium|                 Y|\n",
      "|      LP001003|  Male|    Yes|         1|    Graduate|           No|             1|        Rural|medium|                 N|\n",
      "|      LP001005|  Male|    Yes|         0|    Graduate|          Yes|             1|        Urban|   low|                 Y|\n",
      "|      LP001006|  Male|    Yes|         0|Not Graduate|           No|             1|        Urban|   low|                 Y|\n",
      "|      LP001008|  Male|     No|         0|    Graduate|           No|             1|        Urban|medium|                 Y|\n",
      "+--------------+------+-------+----------+------------+-------------+--------------+-------------+------+------------------+\n",
      "only showing top 5 rows\n",
      "\n"
     ]
    }
   ],
   "source": [
    "branches_df = spark.read.json(\"../data_files/cdw_sapp_branch.json\", schema=schema_branches)\n",
    "branches_df.show(5)\n",
    "\n",
    "customers_df = spark.read.json(\"../data_files/cdw_sapp_customer.json\", schema=schema_customers)\n",
    "customers_df.show(5)\n",
    "\n",
    "cc_transactions_df = spark.read.json(\"../data_files/cdw_sapp_credit.json\", schema=schema_cc_transactions)\n",
    "cc_transactions_df.show(5)\n",
    "\n",
    "resp = requests.get(\"https://raw.githubusercontent.com/platformps/LoanDataset/main/loan_data.json\")\n",
    "loan_df = spark.createDataFrame(resp.json(), schema=schema_loans)\n",
    "loan_df.show(5)\n",
    "\n"
   ]
  },
  {
   "attachments": {},
   "cell_type": "markdown",
   "metadata": {},
   "source": [
    "## Transformation with PySpark\n"
   ]
  },
  {
   "attachments": {},
   "cell_type": "markdown",
   "metadata": {},
   "source": [
    "Transforming customer data"
   ]
  },
  {
   "cell_type": "code",
   "execution_count": 5,
   "metadata": {},
   "outputs": [
    {
     "name": "stdout",
     "output_type": "stream",
     "text": [
      "Convert the first_name to Title case\n",
      "+----------+-----------+---------+---------+----------------+------+-----------------+------------+----------+-------------+--------+----------+-------------------+-------------------+\n",
      "|FIRST_NAME|MIDDLE_NAME|LAST_NAME|      SSN|  CREDIT_CARD_NO|APT_NO|      STREET_NAME|   CUST_CITY|CUST_STATE| CUST_COUNTRY|CUST_ZIP|CUST_PHONE|         CUST_EMAIL|       LAST_UPDATED|\n",
      "+----------+-----------+---------+---------+----------------+------+-----------------+------------+----------+-------------+--------+----------+-------------------+-------------------+\n",
      "|      Alec|         Wm|   Hooper|123456100|4210653310061055|   656|Main Street North|     Natchez|        MS|United States|   39120|   1237818|AHooper@example.com|2018-04-21 11:49:02|\n",
      "|      Etta|    Brendan|   Holman|123453023|4210653310102868|   829|    Redwood Drive|Wethersfield|        CT|United States|   06109|   1238933|EHolman@example.com|2018-04-21 11:49:02|\n",
      "|    Wilber|   Ezequiel|   Dunham|123454487|4210653310116272|   683| 12th Street East|     Huntley|        IL|United States|   60142|   1243018|WDunham@example.com|2018-04-21 11:49:02|\n",
      "+----------+-----------+---------+---------+----------------+------+-----------------+------------+----------+-------------+--------+----------+-------------------+-------------------+\n",
      "only showing top 3 rows\n",
      "\n",
      "Convert the middle name in lower case\n",
      "+----------+-----------+---------+---------+----------------+------+-----------------+------------+----------+-------------+--------+----------+-------------------+-------------------+\n",
      "|FIRST_NAME|MIDDLE_NAME|LAST_NAME|      SSN|  CREDIT_CARD_NO|APT_NO|      STREET_NAME|   CUST_CITY|CUST_STATE| CUST_COUNTRY|CUST_ZIP|CUST_PHONE|         CUST_EMAIL|       LAST_UPDATED|\n",
      "+----------+-----------+---------+---------+----------------+------+-----------------+------------+----------+-------------+--------+----------+-------------------+-------------------+\n",
      "|      Alec|         wm|   Hooper|123456100|4210653310061055|   656|Main Street North|     Natchez|        MS|United States|   39120|   1237818|AHooper@example.com|2018-04-21 11:49:02|\n",
      "|      Etta|    brendan|   Holman|123453023|4210653310102868|   829|    Redwood Drive|Wethersfield|        CT|United States|   06109|   1238933|EHolman@example.com|2018-04-21 11:49:02|\n",
      "|    Wilber|   ezequiel|   Dunham|123454487|4210653310116272|   683| 12th Street East|     Huntley|        IL|United States|   60142|   1243018|WDunham@example.com|2018-04-21 11:49:02|\n",
      "+----------+-----------+---------+---------+----------------+------+-----------------+------------+----------+-------------+--------+----------+-------------------+-------------------+\n",
      "only showing top 3 rows\n",
      "\n",
      "Convert the Last Name in Title Case\n",
      "+----------+-----------+---------+---------+----------------+------+-----------------+------------+----------+-------------+--------+----------+-------------------+-------------------+\n",
      "|FIRST_NAME|MIDDLE_NAME|LAST_NAME|      SSN|  CREDIT_CARD_NO|APT_NO|      STREET_NAME|   CUST_CITY|CUST_STATE| CUST_COUNTRY|CUST_ZIP|CUST_PHONE|         CUST_EMAIL|       LAST_UPDATED|\n",
      "+----------+-----------+---------+---------+----------------+------+-----------------+------------+----------+-------------+--------+----------+-------------------+-------------------+\n",
      "|      Alec|         wm|   Hooper|123456100|4210653310061055|   656|Main Street North|     Natchez|        MS|United States|   39120|   1237818|AHooper@example.com|2018-04-21 11:49:02|\n",
      "|      Etta|    brendan|   Holman|123453023|4210653310102868|   829|    Redwood Drive|Wethersfield|        CT|United States|   06109|   1238933|EHolman@example.com|2018-04-21 11:49:02|\n",
      "|    Wilber|   ezequiel|   Dunham|123454487|4210653310116272|   683| 12th Street East|     Huntley|        IL|United States|   60142|   1243018|WDunham@example.com|2018-04-21 11:49:02|\n",
      "+----------+-----------+---------+---------+----------------+------+-----------------+------------+----------+-------------+--------+----------+-------------------+-------------------+\n",
      "only showing top 3 rows\n",
      "\n",
      "Concatenate Apartment no and Street name of customer's Residence with comma as a seperator (Street, Apartment)\n",
      "+----------+-----------+---------+---------+----------------+--------------------+------------+----------+-------------+--------+----------+-------------------+-------------------+\n",
      "|FIRST_NAME|MIDDLE_NAME|LAST_NAME|      SSN|  CREDIT_CARD_NO| FULL_STREET_ADDRESS|   CUST_CITY|CUST_STATE| CUST_COUNTRY|CUST_ZIP|CUST_PHONE|         CUST_EMAIL|       LAST_UPDATED|\n",
      "+----------+-----------+---------+---------+----------------+--------------------+------------+----------+-------------+--------+----------+-------------------+-------------------+\n",
      "|      Alec|         wm|   Hooper|123456100|4210653310061055|Main Street North...|     Natchez|        MS|United States|   39120|   1237818|AHooper@example.com|2018-04-21 11:49:02|\n",
      "|      Etta|    brendan|   Holman|123453023|4210653310102868|  Redwood Drive, 829|Wethersfield|        CT|United States|   06109|   1238933|EHolman@example.com|2018-04-21 11:49:02|\n",
      "|    Wilber|   ezequiel|   Dunham|123454487|4210653310116272|12th Street East,...|     Huntley|        IL|United States|   60142|   1243018|WDunham@example.com|2018-04-21 11:49:02|\n",
      "+----------+-----------+---------+---------+----------------+--------------------+------------+----------+-------------+--------+----------+-------------------+-------------------+\n",
      "only showing top 3 rows\n",
      "\n",
      "+----------+-----------+---------+---------+----------------+--------------------+------------+----------+-------------+--------+----------+-------------------+-------------------+\n",
      "|FIRST_NAME|MIDDLE_NAME|LAST_NAME|      SSN|  CREDIT_CARD_NO| FULL_STREET_ADDRESS|   CUST_CITY|CUST_STATE| CUST_COUNTRY|CUST_ZIP|CUST_PHONE|         CUST_EMAIL|       LAST_UPDATED|\n",
      "+----------+-----------+---------+---------+----------------+--------------------+------------+----------+-------------+--------+----------+-------------------+-------------------+\n",
      "|      Alec|         wm|   Hooper|123456100|4210653310061055|Main Street North...|     Natchez|        MS|United States|   39120|  123-7818|AHooper@example.com|2018-04-21 11:49:02|\n",
      "|      Etta|    brendan|   Holman|123453023|4210653310102868|  Redwood Drive, 829|Wethersfield|        CT|United States|   06109|  123-8933|EHolman@example.com|2018-04-21 11:49:02|\n",
      "|    Wilber|   ezequiel|   Dunham|123454487|4210653310116272|12th Street East,...|     Huntley|        IL|United States|   60142|  124-3018|WDunham@example.com|2018-04-21 11:49:02|\n",
      "+----------+-----------+---------+---------+----------------+--------------------+------------+----------+-------------+--------+----------+-------------------+-------------------+\n",
      "only showing top 3 rows\n",
      "\n",
      "+---------+----------+-----------+---------+----------------+--------------------+------------+----------+-------------+--------+----------+-------------------+-------------------+\n",
      "|      SSN|FIRST_NAME|MIDDLE_NAME|LAST_NAME|  CREDIT_CARD_NO| FULL_STREET_ADDRESS|   CUST_CITY|CUST_STATE| CUST_COUNTRY|CUST_ZIP|CUST_PHONE|         CUST_EMAIL|       LAST_UPDATED|\n",
      "+---------+----------+-----------+---------+----------------+--------------------+------------+----------+-------------+--------+----------+-------------------+-------------------+\n",
      "|123456100|      Alec|         wm|   Hooper|4210653310061055|Main Street North...|     Natchez|        MS|United States|   39120|  123-7818|AHooper@example.com|2018-04-21 11:49:02|\n",
      "|123453023|      Etta|    brendan|   Holman|4210653310102868|  Redwood Drive, 829|Wethersfield|        CT|United States|   06109|  123-8933|EHolman@example.com|2018-04-21 11:49:02|\n",
      "|123454487|    Wilber|   ezequiel|   Dunham|4210653310116272|12th Street East,...|     Huntley|        IL|United States|   60142|  124-3018|WDunham@example.com|2018-04-21 11:49:02|\n",
      "+---------+----------+-----------+---------+----------------+--------------------+------------+----------+-------------+--------+----------+-------------------+-------------------+\n",
      "only showing top 3 rows\n",
      "\n"
     ]
    }
   ],
   "source": [
    "# Convert the first_name to Title case\n",
    "print(\"Convert the first_name to Title case\")\n",
    "customers_df = customers_df.withColumn(\"FIRST_NAME\", initcap(col(\"FIRST_NAME\")))\n",
    "customers_df.show(3)\n",
    "\n",
    "# Convert the middle name in lower case\n",
    "print(\"Convert the middle name in lower case\")\n",
    "customers_df = customers_df.withColumn(\"MIDDLE_NAME\", lower(col(\"MIDDLE_NAME\")))\n",
    "customers_df.show(3)\n",
    "\n",
    "# Convert the Last Name in Title Case\n",
    "print(\"Convert the Last Name in Title Case\")\n",
    "customers_df = customers_df.withColumn(\"LAST_NAME\", initcap(col(\"LAST_NAME\")))\n",
    "customers_df.show(3)\n",
    "\n",
    "# Concatenate Apartment no and Street name of customer's Residence with comma as a seperator (Street, Apartment)\n",
    "print(\"Concatenate Apartment no and Street name of customer's Residence with comma as a seperator (Street, Apartment)\")\n",
    "customers_df2 = customers_df.withColumn(\"STREET_NAME\", concat_ws(', ',col(\"STREET_NAME\"),col(\"APT_NO\")))\n",
    "customers_df2 = customers_df2.withColumnRenamed(\"STREET_NAME\", \"FULL_STREET_ADDRESS\")\n",
    "customers_df2 = customers_df2.drop(\"APT_NO\")\n",
    "customers_df2.show(3)\n",
    "\n",
    "# Change the format of phone number to (XXX)XXX-XXXX....the data ONLY has 7 digits NOT 10, so changing format to:  XXX-XXXX\n",
    "customers_df3 = customers_df2.withColumn(\"CUST_PHONE\", concat_ws(\"-\",substring(col(\"CUST_PHONE\"), 0, 3),substring(col(\"CUST_PHONE\"), 4, 7)))\n",
    "customers_df3.show(3)\n",
    "\n",
    "# Rearranging columns\n",
    "customers_df3 = customers_df3.select(\n",
    "                                    \"SSN\" ,\n",
    "                                    \"FIRST_NAME\" ,\n",
    "                                    \"MIDDLE_NAME\" ,\n",
    "                                    \"LAST_NAME\" ,\n",
    "                                    \"CREDIT_CARD_NO\" ,\n",
    "                                    \"FULL_STREET_ADDRESS\",\n",
    "                                    \"CUST_CITY\" ,\n",
    "                                    \"CUST_STATE\" ,\n",
    "                                    \"CUST_COUNTRY\" ,\n",
    "                                    \"CUST_ZIP\" ,\n",
    "                                    \"CUST_PHONE\" ,\n",
    "                                    \"CUST_EMAIL\" ,\n",
    "                                    \"LAST_UPDATED\"\n",
    ")\n",
    "customers_df3.show(3)\n"
   ]
  },
  {
   "attachments": {},
   "cell_type": "markdown",
   "metadata": {},
   "source": [
    "Transforming branch data"
   ]
  },
  {
   "cell_type": "code",
   "execution_count": 6,
   "metadata": {},
   "outputs": [
    {
     "name": "stdout",
     "output_type": "stream",
     "text": [
      "+-----------+------------+-----------------+-----------------+------------+----------+------------+-------------------+\n",
      "|BRANCH_CODE| BRANCH_NAME|    BRANCH_STREET|      BRANCH_CITY|BRANCH_STATE|BRANCH_ZIP|BRANCH_PHONE|       LAST_UPDATED|\n",
      "+-----------+------------+-----------------+-----------------+------------+----------+------------+-------------------+\n",
      "|          1|Example Bank|     Bridle Court|        Lakeville|          MN|     55044|  1234565276|2018-04-18 15:51:47|\n",
      "|        999|   TEST Bank|      Night Court|         TreeCity|          MM|     99999|  1234567890|2018-04-18 15:51:47|\n",
      "|          2|Example Bank|Washington Street|          Huntley|          IL|     60142|  1234618993|2018-04-18 15:51:47|\n",
      "|          3|Example Bank|    Warren Street|SouthRichmondHill|          NY|     11419|  1234985926|2018-04-18 15:51:47|\n",
      "|          4|Example Bank| Cleveland Street|       Middleburg|          FL|     32068|  1234663064|2018-04-18 15:51:47|\n",
      "+-----------+------------+-----------------+-----------------+------------+----------+------------+-------------------+\n",
      "only showing top 5 rows\n",
      "\n",
      "+-----------+------------+-----------------+-----------+------------+----------+-------------+-------------------+\n",
      "|BRANCH_CODE| BRANCH_NAME|    BRANCH_STREET|BRANCH_CITY|BRANCH_STATE|BRANCH_ZIP| BRANCH_PHONE|       LAST_UPDATED|\n",
      "+-----------+------------+-----------------+-----------+------------+----------+-------------+-------------------+\n",
      "|          1|Example Bank|     Bridle Court|  Lakeville|          MN|     55044|(123)456-5276|2018-04-18 15:51:47|\n",
      "|        999|   TEST Bank|      Night Court|   TreeCity|          MM|     99999|(123)456-7890|2018-04-18 15:51:47|\n",
      "|          2|Example Bank|Washington Street|    Huntley|          IL|     60142|(123)461-8993|2018-04-18 15:51:47|\n",
      "+-----------+------------+-----------------+-----------+------------+----------+-------------+-------------------+\n",
      "only showing top 3 rows\n",
      "\n"
     ]
    }
   ],
   "source": [
    "# If the BRANCH_ZIP source value is null load default (99999) value else Direct move\n",
    "branches_df = branches_df.withColumn(\"BRANCH_ZIP\", when(col(\"BRANCH_ZIP\").isNull(), 99999).otherwise(col(\"BRANCH_ZIP\")))\n",
    "branches_df.show(5)\n",
    "\n",
    "\n",
    "# Change the format of phone number to (XXX)XXX-XXXX\n",
    "branches_df2 = branches_df.withColumn(\"BRANCH_PHONE\", \n",
    "                                      concat(\n",
    "                                            lit(\"(\"),\n",
    "                                            substring(col(\"BRANCH_PHONE\"), 0, 3),\n",
    "                                            lit(\")\"),\n",
    "                                            substring(col(\"BRANCH_PHONE\"), 4, 3),\n",
    "                                            lit(\"-\"),\n",
    "                                            substring(col(\"BRANCH_PHONE\"), 7, 4)\n",
    "                                             ))\n",
    "branches_df2.show(3)\n"
   ]
  },
  {
   "attachments": {},
   "cell_type": "markdown",
   "metadata": {},
   "source": [
    "Transforming credit card transaction data"
   ]
  },
  {
   "cell_type": "code",
   "execution_count": 7,
   "metadata": {},
   "outputs": [
    {
     "name": "stdout",
     "output_type": "stream",
     "text": [
      "+--------------+--------+----------------+---------+-----------+----------------+-----------------+\n",
      "|TRANSACTION_ID|  TIMEID|  CREDIT_CARD_NO| CUST_SSN|BRANCH_CODE|TRANSACTION_TYPE|TRANSACTION_VALUE|\n",
      "+--------------+--------+----------------+---------+-----------+----------------+-----------------+\n",
      "|             1|20180214|4210653349028689|123459988|        114|       Education|             78.9|\n",
      "|             2|20180320|4210653349028689|123459988|         35|   Entertainment|            14.24|\n",
      "|             3|20180708|4210653349028689|123459988|        160|         Grocery|             56.7|\n",
      "+--------------+--------+----------------+---------+-----------+----------------+-----------------+\n",
      "only showing top 3 rows\n",
      "\n"
     ]
    }
   ],
   "source": [
    "# Convert DAY, MONTH, and YEAR into a TIMEID (YYYYMMDD)\n",
    "cc_transactions_df2 = cc_transactions_df.withColumn(\"DAY\", concat(\"YEAR\", lpad(\"MONTH\", 2, '0'), lpad(\"DAY\", 2, '0')))\\\n",
    "                                        .withColumnRenamed(\"DAY\",\"TIMEID\")\\\n",
    "                                        .drop(\"MONTH\")\\\n",
    "                                        .drop(\"YEAR\")\n",
    "cc_transactions_df2.show(3)"
   ]
  },
  {
   "attachments": {},
   "cell_type": "markdown",
   "metadata": {},
   "source": [
    "## Load into database"
   ]
  },
  {
   "attachments": {},
   "cell_type": "markdown",
   "metadata": {},
   "source": [
    "First I updated the create_tables.sql script to reflect the transformations made above"
   ]
  },
  {
   "cell_type": "code",
   "execution_count": 12,
   "metadata": {},
   "outputs": [
    {
     "ename": "Py4JJavaError",
     "evalue": "An error occurred while calling o254.save.\n: org.apache.spark.SparkException: Job aborted due to stage failure: Task 1 in stage 20.0 failed 1 times, most recent failure: Lost task 1.0 in stage 20.0 (TID 23) (Delltop executor driver): java.sql.SQLNonTransientConnectionException: No operations allowed after connection closed.\r\n\tat com.mysql.cj.jdbc.exceptions.SQLError.createSQLException(SQLError.java:110)\r\n\tat com.mysql.cj.jdbc.exceptions.SQLError.createSQLException(SQLError.java:97)\r\n\tat com.mysql.cj.jdbc.exceptions.SQLError.createSQLException(SQLError.java:89)\r\n\tat com.mysql.cj.jdbc.exceptions.SQLError.createSQLException(SQLError.java:63)\r\n\tat com.mysql.cj.jdbc.exceptions.SQLError.createSQLException(SQLError.java:73)\r\n\tat com.mysql.cj.jdbc.exceptions.SQLExceptionsMapping.translateException(SQLExceptionsMapping.java:73)\r\n\tat com.mysql.cj.jdbc.ConnectionImpl.rollback(ConnectionImpl.java:1862)\r\n\tat org.apache.spark.sql.execution.datasources.jdbc.JdbcUtils$.savePartition(JdbcUtils.scala:775)\r\n\tat org.apache.spark.sql.execution.datasources.jdbc.JdbcUtils$.$anonfun$saveTable$1(JdbcUtils.scala:891)\r\n\tat org.apache.spark.sql.execution.datasources.jdbc.JdbcUtils$.$anonfun$saveTable$1$adapted(JdbcUtils.scala:890)\r\n\tat org.apache.spark.rdd.RDD.$anonfun$foreachPartition$2(RDD.scala:1009)\r\n\tat org.apache.spark.rdd.RDD.$anonfun$foreachPartition$2$adapted(RDD.scala:1009)\r\n\tat org.apache.spark.SparkContext.$anonfun$runJob$5(SparkContext.scala:2303)\r\n\tat org.apache.spark.scheduler.ResultTask.runTask(ResultTask.scala:92)\r\n\tat org.apache.spark.TaskContext.runTaskWithListeners(TaskContext.scala:161)\r\n\tat org.apache.spark.scheduler.Task.run(Task.scala:139)\r\n\tat org.apache.spark.executor.Executor$TaskRunner.$anonfun$run$3(Executor.scala:554)\r\n\tat org.apache.spark.util.Utils$.tryWithSafeFinally(Utils.scala:1529)\r\n\tat org.apache.spark.executor.Executor$TaskRunner.run(Executor.scala:557)\r\n\tat java.util.concurrent.ThreadPoolExecutor.runWorker(ThreadPoolExecutor.java:1149)\r\n\tat java.util.concurrent.ThreadPoolExecutor$Worker.run(ThreadPoolExecutor.java:624)\r\n\tat java.lang.Thread.run(Thread.java:750)\r\nCaused by: com.mysql.cj.exceptions.ConnectionIsClosedException: No operations allowed after connection closed.\r\n\tat sun.reflect.NativeConstructorAccessorImpl.newInstance0(Native Method)\r\n\tat sun.reflect.NativeConstructorAccessorImpl.newInstance(NativeConstructorAccessorImpl.java:62)\r\n\tat sun.reflect.DelegatingConstructorAccessorImpl.newInstance(DelegatingConstructorAccessorImpl.java:45)\r\n\tat java.lang.reflect.Constructor.newInstance(Constructor.java:423)\r\n\tat com.mysql.cj.exceptions.ExceptionFactory.createException(ExceptionFactory.java:61)\r\n\tat com.mysql.cj.exceptions.ExceptionFactory.createException(ExceptionFactory.java:105)\r\n\tat com.mysql.cj.exceptions.ExceptionFactory.createException(ExceptionFactory.java:151)\r\n\tat com.mysql.cj.NativeSession.checkClosed(NativeSession.java:1171)\r\n\tat com.mysql.cj.jdbc.ConnectionImpl.checkClosed(ConnectionImpl.java:573)\r\n\tat com.mysql.cj.jdbc.ConnectionImpl.rollback(ConnectionImpl.java:1816)\r\n\t... 15 more\r\nCaused by: com.mysql.cj.exceptions.CJCommunicationsException: Communications link failure\n\nThe last packet successfully received from the server was 1,681 milliseconds ago. The last packet sent successfully to the server was 1,681 milliseconds ago.\r\n\tat sun.reflect.NativeConstructorAccessorImpl.newInstance0(Native Method)\r\n\tat sun.reflect.NativeConstructorAccessorImpl.newInstance(NativeConstructorAccessorImpl.java:62)\r\n\tat sun.reflect.DelegatingConstructorAccessorImpl.newInstance(DelegatingConstructorAccessorImpl.java:45)\r\n\tat java.lang.reflect.Constructor.newInstance(Constructor.java:423)\r\n\tat com.mysql.cj.exceptions.ExceptionFactory.createException(ExceptionFactory.java:61)\r\n\tat com.mysql.cj.exceptions.ExceptionFactory.createException(ExceptionFactory.java:105)\r\n\tat com.mysql.cj.exceptions.ExceptionFactory.createException(ExceptionFactory.java:151)\r\n\tat com.mysql.cj.exceptions.ExceptionFactory.createCommunicationsException(ExceptionFactory.java:167)\r\n\tat com.mysql.cj.protocol.a.NativeProtocol.readMessage(NativeProtocol.java:546)\r\n\tat com.mysql.cj.protocol.a.NativeProtocol.checkErrorMessage(NativeProtocol.java:710)\r\n\tat com.mysql.cj.protocol.a.NativeProtocol.sendCommand(NativeProtocol.java:649)\r\n\tat com.mysql.cj.protocol.a.NativeProtocol.sendQueryPacket(NativeProtocol.java:948)\r\n\tat com.mysql.cj.NativeSession.execSQL(NativeSession.java:1075)\r\n\tat com.mysql.cj.jdbc.ClientPreparedStatement.executeInternal(ClientPreparedStatement.java:930)\r\n\tat com.mysql.cj.jdbc.ClientPreparedStatement.executeUpdateInternal(ClientPreparedStatement.java:1092)\r\n\tat com.mysql.cj.jdbc.ClientPreparedStatement.executeBatchSerially(ClientPreparedStatement.java:832)\r\n\tat com.mysql.cj.jdbc.ClientPreparedStatement.executeBatchInternal(ClientPreparedStatement.java:435)\r\n\tat com.mysql.cj.jdbc.StatementImpl.executeBatch(StatementImpl.java:794)\r\n\tat org.apache.spark.sql.execution.datasources.jdbc.JdbcUtils$.savePartition(JdbcUtils.scala:735)\r\n\t... 14 more\r\nCaused by: java.net.SocketException: Software caused connection abort: recv failed\r\n\tat java.net.SocketInputStream.socketRead0(Native Method)\r\n\tat java.net.SocketInputStream.socketRead(SocketInputStream.java:116)\r\n\tat java.net.SocketInputStream.read(SocketInputStream.java:171)\r\n\tat java.net.SocketInputStream.read(SocketInputStream.java:141)\r\n\tat com.mysql.cj.protocol.ReadAheadInputStream.fill(ReadAheadInputStream.java:107)\r\n\tat com.mysql.cj.protocol.ReadAheadInputStream.readFromUnderlyingStreamIfNecessary(ReadAheadInputStream.java:150)\r\n\tat com.mysql.cj.protocol.ReadAheadInputStream.read(ReadAheadInputStream.java:180)\r\n\tat java.io.FilterInputStream.read(FilterInputStream.java:133)\r\n\tat com.mysql.cj.protocol.FullReadInputStream.readFully(FullReadInputStream.java:64)\r\n\tat com.mysql.cj.protocol.a.SimplePacketReader.readHeader(SimplePacketReader.java:63)\r\n\tat com.mysql.cj.protocol.a.SimplePacketReader.readHeader(SimplePacketReader.java:45)\r\n\tat com.mysql.cj.protocol.a.TimeTrackingPacketReader.readHeader(TimeTrackingPacketReader.java:52)\r\n\tat com.mysql.cj.protocol.a.TimeTrackingPacketReader.readHeader(TimeTrackingPacketReader.java:41)\r\n\tat com.mysql.cj.protocol.a.MultiPacketReader.readHeader(MultiPacketReader.java:54)\r\n\tat com.mysql.cj.protocol.a.MultiPacketReader.readHeader(MultiPacketReader.java:44)\r\n\tat com.mysql.cj.protocol.a.NativeProtocol.readMessage(NativeProtocol.java:540)\r\n\t... 24 more\r\n\nDriver stacktrace:\r\n\tat org.apache.spark.scheduler.DAGScheduler.failJobAndIndependentStages(DAGScheduler.scala:2785)\r\n\tat org.apache.spark.scheduler.DAGScheduler.$anonfun$abortStage$2(DAGScheduler.scala:2721)\r\n\tat org.apache.spark.scheduler.DAGScheduler.$anonfun$abortStage$2$adapted(DAGScheduler.scala:2720)\r\n\tat scala.collection.mutable.ResizableArray.foreach(ResizableArray.scala:62)\r\n\tat scala.collection.mutable.ResizableArray.foreach$(ResizableArray.scala:55)\r\n\tat scala.collection.mutable.ArrayBuffer.foreach(ArrayBuffer.scala:49)\r\n\tat org.apache.spark.scheduler.DAGScheduler.abortStage(DAGScheduler.scala:2720)\r\n\tat org.apache.spark.scheduler.DAGScheduler.$anonfun$handleTaskSetFailed$1(DAGScheduler.scala:1206)\r\n\tat org.apache.spark.scheduler.DAGScheduler.$anonfun$handleTaskSetFailed$1$adapted(DAGScheduler.scala:1206)\r\n\tat scala.Option.foreach(Option.scala:407)\r\n\tat org.apache.spark.scheduler.DAGScheduler.handleTaskSetFailed(DAGScheduler.scala:1206)\r\n\tat org.apache.spark.scheduler.DAGSchedulerEventProcessLoop.doOnReceive(DAGScheduler.scala:2984)\r\n\tat org.apache.spark.scheduler.DAGSchedulerEventProcessLoop.onReceive(DAGScheduler.scala:2923)\r\n\tat org.apache.spark.scheduler.DAGSchedulerEventProcessLoop.onReceive(DAGScheduler.scala:2912)\r\n\tat org.apache.spark.util.EventLoop$$anon$1.run(EventLoop.scala:49)\r\n\tat org.apache.spark.scheduler.DAGScheduler.runJob(DAGScheduler.scala:971)\r\n\tat org.apache.spark.SparkContext.runJob(SparkContext.scala:2263)\r\n\tat org.apache.spark.SparkContext.runJob(SparkContext.scala:2284)\r\n\tat org.apache.spark.SparkContext.runJob(SparkContext.scala:2303)\r\n\tat org.apache.spark.SparkContext.runJob(SparkContext.scala:2328)\r\n\tat org.apache.spark.rdd.RDD.$anonfun$foreachPartition$1(RDD.scala:1009)\r\n\tat org.apache.spark.rdd.RDDOperationScope$.withScope(RDDOperationScope.scala:151)\r\n\tat org.apache.spark.rdd.RDDOperationScope$.withScope(RDDOperationScope.scala:112)\r\n\tat org.apache.spark.rdd.RDD.withScope(RDD.scala:405)\r\n\tat org.apache.spark.rdd.RDD.foreachPartition(RDD.scala:1007)\r\n\tat org.apache.spark.sql.execution.datasources.jdbc.JdbcUtils$.saveTable(JdbcUtils.scala:890)\r\n\tat org.apache.spark.sql.execution.datasources.jdbc.JdbcRelationProvider.createRelation(JdbcRelationProvider.scala:70)\r\n\tat org.apache.spark.sql.execution.datasources.SaveIntoDataSourceCommand.run(SaveIntoDataSourceCommand.scala:47)\r\n\tat org.apache.spark.sql.execution.command.ExecutedCommandExec.sideEffectResult$lzycompute(commands.scala:75)\r\n\tat org.apache.spark.sql.execution.command.ExecutedCommandExec.sideEffectResult(commands.scala:73)\r\n\tat org.apache.spark.sql.execution.command.ExecutedCommandExec.executeCollect(commands.scala:84)\r\n\tat org.apache.spark.sql.execution.QueryExecution$$anonfun$eagerlyExecuteCommands$1.$anonfun$applyOrElse$1(QueryExecution.scala:98)\r\n\tat org.apache.spark.sql.execution.SQLExecution$.$anonfun$withNewExecutionId$6(SQLExecution.scala:118)\r\n\tat org.apache.spark.sql.execution.SQLExecution$.withSQLConfPropagated(SQLExecution.scala:195)\r\n\tat org.apache.spark.sql.execution.SQLExecution$.$anonfun$withNewExecutionId$1(SQLExecution.scala:103)\r\n\tat org.apache.spark.sql.SparkSession.withActive(SparkSession.scala:827)\r\n\tat org.apache.spark.sql.execution.SQLExecution$.withNewExecutionId(SQLExecution.scala:65)\r\n\tat org.apache.spark.sql.execution.QueryExecution$$anonfun$eagerlyExecuteCommands$1.applyOrElse(QueryExecution.scala:98)\r\n\tat org.apache.spark.sql.execution.QueryExecution$$anonfun$eagerlyExecuteCommands$1.applyOrElse(QueryExecution.scala:94)\r\n\tat org.apache.spark.sql.catalyst.trees.TreeNode.$anonfun$transformDownWithPruning$1(TreeNode.scala:512)\r\n\tat org.apache.spark.sql.catalyst.trees.CurrentOrigin$.withOrigin(TreeNode.scala:104)\r\n\tat org.apache.spark.sql.catalyst.trees.TreeNode.transformDownWithPruning(TreeNode.scala:512)\r\n\tat org.apache.spark.sql.catalyst.plans.logical.LogicalPlan.org$apache$spark$sql$catalyst$plans$logical$AnalysisHelper$$super$transformDownWithPruning(LogicalPlan.scala:31)\r\n\tat org.apache.spark.sql.catalyst.plans.logical.AnalysisHelper.transformDownWithPruning(AnalysisHelper.scala:267)\r\n\tat org.apache.spark.sql.catalyst.plans.logical.AnalysisHelper.transformDownWithPruning$(AnalysisHelper.scala:263)\r\n\tat org.apache.spark.sql.catalyst.plans.logical.LogicalPlan.transformDownWithPruning(LogicalPlan.scala:31)\r\n\tat org.apache.spark.sql.catalyst.plans.logical.LogicalPlan.transformDownWithPruning(LogicalPlan.scala:31)\r\n\tat org.apache.spark.sql.catalyst.trees.TreeNode.transformDown(TreeNode.scala:488)\r\n\tat org.apache.spark.sql.execution.QueryExecution.eagerlyExecuteCommands(QueryExecution.scala:94)\r\n\tat org.apache.spark.sql.execution.QueryExecution.commandExecuted$lzycompute(QueryExecution.scala:81)\r\n\tat org.apache.spark.sql.execution.QueryExecution.commandExecuted(QueryExecution.scala:79)\r\n\tat org.apache.spark.sql.execution.QueryExecution.assertCommandExecuted(QueryExecution.scala:133)\r\n\tat org.apache.spark.sql.DataFrameWriter.runCommand(DataFrameWriter.scala:856)\r\n\tat org.apache.spark.sql.DataFrameWriter.saveToV1Source(DataFrameWriter.scala:387)\r\n\tat org.apache.spark.sql.DataFrameWriter.saveInternal(DataFrameWriter.scala:360)\r\n\tat org.apache.spark.sql.DataFrameWriter.save(DataFrameWriter.scala:247)\r\n\tat sun.reflect.NativeMethodAccessorImpl.invoke0(Native Method)\r\n\tat sun.reflect.NativeMethodAccessorImpl.invoke(NativeMethodAccessorImpl.java:62)\r\n\tat sun.reflect.DelegatingMethodAccessorImpl.invoke(DelegatingMethodAccessorImpl.java:43)\r\n\tat java.lang.reflect.Method.invoke(Method.java:498)\r\n\tat py4j.reflection.MethodInvoker.invoke(MethodInvoker.java:244)\r\n\tat py4j.reflection.ReflectionEngine.invoke(ReflectionEngine.java:374)\r\n\tat py4j.Gateway.invoke(Gateway.java:282)\r\n\tat py4j.commands.AbstractCommand.invokeMethod(AbstractCommand.java:132)\r\n\tat py4j.commands.CallCommand.execute(CallCommand.java:79)\r\n\tat py4j.ClientServerConnection.waitForCommands(ClientServerConnection.java:182)\r\n\tat py4j.ClientServerConnection.run(ClientServerConnection.java:106)\r\n\tat java.lang.Thread.run(Thread.java:750)\r\nCaused by: java.sql.SQLNonTransientConnectionException: No operations allowed after connection closed.\r\n\tat com.mysql.cj.jdbc.exceptions.SQLError.createSQLException(SQLError.java:110)\r\n\tat com.mysql.cj.jdbc.exceptions.SQLError.createSQLException(SQLError.java:97)\r\n\tat com.mysql.cj.jdbc.exceptions.SQLError.createSQLException(SQLError.java:89)\r\n\tat com.mysql.cj.jdbc.exceptions.SQLError.createSQLException(SQLError.java:63)\r\n\tat com.mysql.cj.jdbc.exceptions.SQLError.createSQLException(SQLError.java:73)\r\n\tat com.mysql.cj.jdbc.exceptions.SQLExceptionsMapping.translateException(SQLExceptionsMapping.java:73)\r\n\tat com.mysql.cj.jdbc.ConnectionImpl.rollback(ConnectionImpl.java:1862)\r\n\tat org.apache.spark.sql.execution.datasources.jdbc.JdbcUtils$.savePartition(JdbcUtils.scala:775)\r\n\tat org.apache.spark.sql.execution.datasources.jdbc.JdbcUtils$.$anonfun$saveTable$1(JdbcUtils.scala:891)\r\n\tat org.apache.spark.sql.execution.datasources.jdbc.JdbcUtils$.$anonfun$saveTable$1$adapted(JdbcUtils.scala:890)\r\n\tat org.apache.spark.rdd.RDD.$anonfun$foreachPartition$2(RDD.scala:1009)\r\n\tat org.apache.spark.rdd.RDD.$anonfun$foreachPartition$2$adapted(RDD.scala:1009)\r\n\tat org.apache.spark.SparkContext.$anonfun$runJob$5(SparkContext.scala:2303)\r\n\tat org.apache.spark.scheduler.ResultTask.runTask(ResultTask.scala:92)\r\n\tat org.apache.spark.TaskContext.runTaskWithListeners(TaskContext.scala:161)\r\n\tat org.apache.spark.scheduler.Task.run(Task.scala:139)\r\n\tat org.apache.spark.executor.Executor$TaskRunner.$anonfun$run$3(Executor.scala:554)\r\n\tat org.apache.spark.util.Utils$.tryWithSafeFinally(Utils.scala:1529)\r\n\tat org.apache.spark.executor.Executor$TaskRunner.run(Executor.scala:557)\r\n\tat java.util.concurrent.ThreadPoolExecutor.runWorker(ThreadPoolExecutor.java:1149)\r\n\tat java.util.concurrent.ThreadPoolExecutor$Worker.run(ThreadPoolExecutor.java:624)\r\n\t... 1 more\r\nCaused by: com.mysql.cj.exceptions.ConnectionIsClosedException: No operations allowed after connection closed.\r\n\tat sun.reflect.NativeConstructorAccessorImpl.newInstance0(Native Method)\r\n\tat sun.reflect.NativeConstructorAccessorImpl.newInstance(NativeConstructorAccessorImpl.java:62)\r\n\tat sun.reflect.DelegatingConstructorAccessorImpl.newInstance(DelegatingConstructorAccessorImpl.java:45)\r\n\tat java.lang.reflect.Constructor.newInstance(Constructor.java:423)\r\n\tat com.mysql.cj.exceptions.ExceptionFactory.createException(ExceptionFactory.java:61)\r\n\tat com.mysql.cj.exceptions.ExceptionFactory.createException(ExceptionFactory.java:105)\r\n\tat com.mysql.cj.exceptions.ExceptionFactory.createException(ExceptionFactory.java:151)\r\n\tat com.mysql.cj.NativeSession.checkClosed(NativeSession.java:1171)\r\n\tat com.mysql.cj.jdbc.ConnectionImpl.checkClosed(ConnectionImpl.java:573)\r\n\tat com.mysql.cj.jdbc.ConnectionImpl.rollback(ConnectionImpl.java:1816)\r\n\t... 15 more\r\nCaused by: com.mysql.cj.exceptions.CJCommunicationsException: Communications link failure\n\nThe last packet successfully received from the server was 1,681 milliseconds ago. The last packet sent successfully to the server was 1,681 milliseconds ago.\r\n\tat sun.reflect.NativeConstructorAccessorImpl.newInstance0(Native Method)\r\n\tat sun.reflect.NativeConstructorAccessorImpl.newInstance(NativeConstructorAccessorImpl.java:62)\r\n\tat sun.reflect.DelegatingConstructorAccessorImpl.newInstance(DelegatingConstructorAccessorImpl.java:45)\r\n\tat java.lang.reflect.Constructor.newInstance(Constructor.java:423)\r\n\tat com.mysql.cj.exceptions.ExceptionFactory.createException(ExceptionFactory.java:61)\r\n\tat com.mysql.cj.exceptions.ExceptionFactory.createException(ExceptionFactory.java:105)\r\n\tat com.mysql.cj.exceptions.ExceptionFactory.createException(ExceptionFactory.java:151)\r\n\tat com.mysql.cj.exceptions.ExceptionFactory.createCommunicationsException(ExceptionFactory.java:167)\r\n\tat com.mysql.cj.protocol.a.NativeProtocol.readMessage(NativeProtocol.java:546)\r\n\tat com.mysql.cj.protocol.a.NativeProtocol.checkErrorMessage(NativeProtocol.java:710)\r\n\tat com.mysql.cj.protocol.a.NativeProtocol.sendCommand(NativeProtocol.java:649)\r\n\tat com.mysql.cj.protocol.a.NativeProtocol.sendQueryPacket(NativeProtocol.java:948)\r\n\tat com.mysql.cj.NativeSession.execSQL(NativeSession.java:1075)\r\n\tat com.mysql.cj.jdbc.ClientPreparedStatement.executeInternal(ClientPreparedStatement.java:930)\r\n\tat com.mysql.cj.jdbc.ClientPreparedStatement.executeUpdateInternal(ClientPreparedStatement.java:1092)\r\n\tat com.mysql.cj.jdbc.ClientPreparedStatement.executeBatchSerially(ClientPreparedStatement.java:832)\r\n\tat com.mysql.cj.jdbc.ClientPreparedStatement.executeBatchInternal(ClientPreparedStatement.java:435)\r\n\tat com.mysql.cj.jdbc.StatementImpl.executeBatch(StatementImpl.java:794)\r\n\tat org.apache.spark.sql.execution.datasources.jdbc.JdbcUtils$.savePartition(JdbcUtils.scala:735)\r\n\t... 14 more\r\nCaused by: java.net.SocketException: Software caused connection abort: recv failed\r\n\tat java.net.SocketInputStream.socketRead0(Native Method)\r\n\tat java.net.SocketInputStream.socketRead(SocketInputStream.java:116)\r\n\tat java.net.SocketInputStream.read(SocketInputStream.java:171)\r\n\tat java.net.SocketInputStream.read(SocketInputStream.java:141)\r\n\tat com.mysql.cj.protocol.ReadAheadInputStream.fill(ReadAheadInputStream.java:107)\r\n\tat com.mysql.cj.protocol.ReadAheadInputStream.readFromUnderlyingStreamIfNecessary(ReadAheadInputStream.java:150)\r\n\tat com.mysql.cj.protocol.ReadAheadInputStream.read(ReadAheadInputStream.java:180)\r\n\tat java.io.FilterInputStream.read(FilterInputStream.java:133)\r\n\tat com.mysql.cj.protocol.FullReadInputStream.readFully(FullReadInputStream.java:64)\r\n\tat com.mysql.cj.protocol.a.SimplePacketReader.readHeader(SimplePacketReader.java:63)\r\n\tat com.mysql.cj.protocol.a.SimplePacketReader.readHeader(SimplePacketReader.java:45)\r\n\tat com.mysql.cj.protocol.a.TimeTrackingPacketReader.readHeader(TimeTrackingPacketReader.java:52)\r\n\tat com.mysql.cj.protocol.a.TimeTrackingPacketReader.readHeader(TimeTrackingPacketReader.java:41)\r\n\tat com.mysql.cj.protocol.a.MultiPacketReader.readHeader(MultiPacketReader.java:54)\r\n\tat com.mysql.cj.protocol.a.MultiPacketReader.readHeader(MultiPacketReader.java:44)\r\n\tat com.mysql.cj.protocol.a.NativeProtocol.readMessage(NativeProtocol.java:540)\r\n\t... 24 more\r\n",
     "output_type": "error",
     "traceback": [
      "\u001b[1;31m---------------------------------------------------------------------------\u001b[0m",
      "\u001b[1;31mPy4JJavaError\u001b[0m                             Traceback (most recent call last)",
      "Cell \u001b[1;32mIn[12], line 43\u001b[0m\n\u001b[0;32m     17\u001b[0m customers_df3\u001b[39m.\u001b[39mwrite\u001b[39m.\u001b[39mformat(\u001b[39m\"\u001b[39m\u001b[39mjdbc\u001b[39m\u001b[39m\"\u001b[39m)\u001b[39m.\u001b[39mmode(\u001b[39m\"\u001b[39m\u001b[39mappend\u001b[39m\u001b[39m\"\u001b[39m)\\\n\u001b[0;32m     18\u001b[0m                 \u001b[39m.\u001b[39moption(\u001b[39m\"\u001b[39m\u001b[39mdriver\u001b[39m\u001b[39m\"\u001b[39m, \u001b[39m\"\u001b[39m\u001b[39mcom.mysql.cj.jdbc.Driver\u001b[39m\u001b[39m\"\u001b[39m)\\\n\u001b[0;32m     19\u001b[0m                 \u001b[39m.\u001b[39moption(\u001b[39m\"\u001b[39m\u001b[39murl\u001b[39m\u001b[39m\"\u001b[39m, \u001b[39m\"\u001b[39m\u001b[39mjdbc:mysql://tommy2.heliohost.org:3306/michaelwschmidt_creditcard_capstone\u001b[39m\u001b[39m\"\u001b[39m)\\\n\u001b[1;32m   (...)\u001b[0m\n\u001b[0;32m     23\u001b[0m                 \u001b[39m.\u001b[39moption(\u001b[39m\"\u001b[39m\u001b[39mheader\u001b[39m\u001b[39m\"\u001b[39m, \u001b[39m\"\u001b[39m\u001b[39mfalse\u001b[39m\u001b[39m\"\u001b[39m)\\\n\u001b[0;32m     24\u001b[0m                 \u001b[39m.\u001b[39msave()\n\u001b[0;32m     26\u001b[0m branches_df2\u001b[39m.\u001b[39mwrite\u001b[39m.\u001b[39mformat(\u001b[39m\"\u001b[39m\u001b[39mjdbc\u001b[39m\u001b[39m\"\u001b[39m)\u001b[39m.\u001b[39mmode(\u001b[39m\"\u001b[39m\u001b[39mappend\u001b[39m\u001b[39m\"\u001b[39m)\\\n\u001b[0;32m     27\u001b[0m                 \u001b[39m.\u001b[39moption(\u001b[39m\"\u001b[39m\u001b[39mdriver\u001b[39m\u001b[39m\"\u001b[39m, \u001b[39m\"\u001b[39m\u001b[39mcom.mysql.cj.jdbc.Driver\u001b[39m\u001b[39m\"\u001b[39m)\\\n\u001b[0;32m     28\u001b[0m                 \u001b[39m.\u001b[39moption(\u001b[39m\"\u001b[39m\u001b[39murl\u001b[39m\u001b[39m\"\u001b[39m, \u001b[39m\"\u001b[39m\u001b[39mjdbc:mysql://mikey.helioho.st:3306/michaelwschmidt_creditcard_capstone\u001b[39m\u001b[39m\"\u001b[39m)\\\n\u001b[1;32m   (...)\u001b[0m\n\u001b[0;32m     32\u001b[0m                 \u001b[39m.\u001b[39moption(\u001b[39m\"\u001b[39m\u001b[39mheader\u001b[39m\u001b[39m\"\u001b[39m, \u001b[39m\"\u001b[39m\u001b[39mfalse\u001b[39m\u001b[39m\"\u001b[39m)\\\n\u001b[0;32m     33\u001b[0m                 \u001b[39m.\u001b[39msave()\n\u001b[0;32m     36\u001b[0m cc_transactions_df2\u001b[39m.\u001b[39;49mwrite\u001b[39m.\u001b[39;49mformat(\u001b[39m\"\u001b[39;49m\u001b[39mjdbc\u001b[39;49m\u001b[39m\"\u001b[39;49m)\u001b[39m.\u001b[39;49mmode(\u001b[39m\"\u001b[39;49m\u001b[39mappend\u001b[39;49m\u001b[39m\"\u001b[39;49m)\\\n\u001b[0;32m     37\u001b[0m                 \u001b[39m.\u001b[39;49moption(\u001b[39m\"\u001b[39;49m\u001b[39mdriver\u001b[39;49m\u001b[39m\"\u001b[39;49m, \u001b[39m\"\u001b[39;49m\u001b[39mcom.mysql.cj.jdbc.Driver\u001b[39;49m\u001b[39m\"\u001b[39;49m)\\\n\u001b[0;32m     38\u001b[0m                 \u001b[39m.\u001b[39;49moption(\u001b[39m\"\u001b[39;49m\u001b[39murl\u001b[39;49m\u001b[39m\"\u001b[39;49m, \u001b[39m\"\u001b[39;49m\u001b[39mjdbc:mysql://mikey.helioho.st:3306/michaelwschmidt_creditcard_capstone\u001b[39;49m\u001b[39m\"\u001b[39;49m)\\\n\u001b[0;32m     39\u001b[0m                 \u001b[39m.\u001b[39;49moption(\u001b[39m\"\u001b[39;49m\u001b[39muser\u001b[39;49m\u001b[39m\"\u001b[39;49m, \u001b[39m\"\u001b[39;49m\u001b[39mmichaelwschmidt_cc_capstone\u001b[39;49m\u001b[39m\"\u001b[39;49m)\\\n\u001b[0;32m     40\u001b[0m                 \u001b[39m.\u001b[39;49moption(\u001b[39m\"\u001b[39;49m\u001b[39mdbtable\u001b[39;49m\u001b[39m\"\u001b[39;49m,\u001b[39m\"\u001b[39;49m\u001b[39mcdw_sapp_credit_card\u001b[39;49m\u001b[39m\"\u001b[39;49m)\\\n\u001b[0;32m     41\u001b[0m                 \u001b[39m.\u001b[39;49moption(\u001b[39m\"\u001b[39;49m\u001b[39mpassword\u001b[39;49m\u001b[39m\"\u001b[39;49m, CREDITCARD_CAPSTONE_PASSWORD)\\\n\u001b[0;32m     42\u001b[0m                 \u001b[39m.\u001b[39;49moption(\u001b[39m\"\u001b[39;49m\u001b[39mheader\u001b[39;49m\u001b[39m\"\u001b[39;49m, \u001b[39m\"\u001b[39;49m\u001b[39mfalse\u001b[39;49m\u001b[39m\"\u001b[39;49m)\\\n\u001b[1;32m---> 43\u001b[0m                 \u001b[39m.\u001b[39;49msave()\n",
      "File \u001b[1;32mc:\\Users\\mikey\\AppData\\Local\\Programs\\Python\\Python310\\lib\\site-packages\\pyspark\\sql\\readwriter.py:1396\u001b[0m, in \u001b[0;36mDataFrameWriter.save\u001b[1;34m(self, path, format, mode, partitionBy, **options)\u001b[0m\n\u001b[0;32m   1394\u001b[0m     \u001b[39mself\u001b[39m\u001b[39m.\u001b[39mformat(\u001b[39mformat\u001b[39m)\n\u001b[0;32m   1395\u001b[0m \u001b[39mif\u001b[39;00m path \u001b[39mis\u001b[39;00m \u001b[39mNone\u001b[39;00m:\n\u001b[1;32m-> 1396\u001b[0m     \u001b[39mself\u001b[39;49m\u001b[39m.\u001b[39;49m_jwrite\u001b[39m.\u001b[39;49msave()\n\u001b[0;32m   1397\u001b[0m \u001b[39melse\u001b[39;00m:\n\u001b[0;32m   1398\u001b[0m     \u001b[39mself\u001b[39m\u001b[39m.\u001b[39m_jwrite\u001b[39m.\u001b[39msave(path)\n",
      "File \u001b[1;32mc:\\Users\\mikey\\AppData\\Local\\Programs\\Python\\Python310\\lib\\site-packages\\py4j\\java_gateway.py:1322\u001b[0m, in \u001b[0;36mJavaMember.__call__\u001b[1;34m(self, *args)\u001b[0m\n\u001b[0;32m   1316\u001b[0m command \u001b[39m=\u001b[39m proto\u001b[39m.\u001b[39mCALL_COMMAND_NAME \u001b[39m+\u001b[39m\\\n\u001b[0;32m   1317\u001b[0m     \u001b[39mself\u001b[39m\u001b[39m.\u001b[39mcommand_header \u001b[39m+\u001b[39m\\\n\u001b[0;32m   1318\u001b[0m     args_command \u001b[39m+\u001b[39m\\\n\u001b[0;32m   1319\u001b[0m     proto\u001b[39m.\u001b[39mEND_COMMAND_PART\n\u001b[0;32m   1321\u001b[0m answer \u001b[39m=\u001b[39m \u001b[39mself\u001b[39m\u001b[39m.\u001b[39mgateway_client\u001b[39m.\u001b[39msend_command(command)\n\u001b[1;32m-> 1322\u001b[0m return_value \u001b[39m=\u001b[39m get_return_value(\n\u001b[0;32m   1323\u001b[0m     answer, \u001b[39mself\u001b[39;49m\u001b[39m.\u001b[39;49mgateway_client, \u001b[39mself\u001b[39;49m\u001b[39m.\u001b[39;49mtarget_id, \u001b[39mself\u001b[39;49m\u001b[39m.\u001b[39;49mname)\n\u001b[0;32m   1325\u001b[0m \u001b[39mfor\u001b[39;00m temp_arg \u001b[39min\u001b[39;00m temp_args:\n\u001b[0;32m   1326\u001b[0m     \u001b[39mif\u001b[39;00m \u001b[39mhasattr\u001b[39m(temp_arg, \u001b[39m\"\u001b[39m\u001b[39m_detach\u001b[39m\u001b[39m\"\u001b[39m):\n",
      "File \u001b[1;32mc:\\Users\\mikey\\AppData\\Local\\Programs\\Python\\Python310\\lib\\site-packages\\pyspark\\errors\\exceptions\\captured.py:169\u001b[0m, in \u001b[0;36mcapture_sql_exception.<locals>.deco\u001b[1;34m(*a, **kw)\u001b[0m\n\u001b[0;32m    167\u001b[0m \u001b[39mdef\u001b[39;00m \u001b[39mdeco\u001b[39m(\u001b[39m*\u001b[39ma: Any, \u001b[39m*\u001b[39m\u001b[39m*\u001b[39mkw: Any) \u001b[39m-\u001b[39m\u001b[39m>\u001b[39m Any:\n\u001b[0;32m    168\u001b[0m     \u001b[39mtry\u001b[39;00m:\n\u001b[1;32m--> 169\u001b[0m         \u001b[39mreturn\u001b[39;00m f(\u001b[39m*\u001b[39ma, \u001b[39m*\u001b[39m\u001b[39m*\u001b[39mkw)\n\u001b[0;32m    170\u001b[0m     \u001b[39mexcept\u001b[39;00m Py4JJavaError \u001b[39mas\u001b[39;00m e:\n\u001b[0;32m    171\u001b[0m         converted \u001b[39m=\u001b[39m convert_exception(e\u001b[39m.\u001b[39mjava_exception)\n",
      "File \u001b[1;32mc:\\Users\\mikey\\AppData\\Local\\Programs\\Python\\Python310\\lib\\site-packages\\py4j\\protocol.py:326\u001b[0m, in \u001b[0;36mget_return_value\u001b[1;34m(answer, gateway_client, target_id, name)\u001b[0m\n\u001b[0;32m    324\u001b[0m value \u001b[39m=\u001b[39m OUTPUT_CONVERTER[\u001b[39mtype\u001b[39m](answer[\u001b[39m2\u001b[39m:], gateway_client)\n\u001b[0;32m    325\u001b[0m \u001b[39mif\u001b[39;00m answer[\u001b[39m1\u001b[39m] \u001b[39m==\u001b[39m REFERENCE_TYPE:\n\u001b[1;32m--> 326\u001b[0m     \u001b[39mraise\u001b[39;00m Py4JJavaError(\n\u001b[0;32m    327\u001b[0m         \u001b[39m\"\u001b[39m\u001b[39mAn error occurred while calling \u001b[39m\u001b[39m{0}\u001b[39;00m\u001b[39m{1}\u001b[39;00m\u001b[39m{2}\u001b[39;00m\u001b[39m.\u001b[39m\u001b[39m\\n\u001b[39;00m\u001b[39m\"\u001b[39m\u001b[39m.\u001b[39m\n\u001b[0;32m    328\u001b[0m         \u001b[39mformat\u001b[39m(target_id, \u001b[39m\"\u001b[39m\u001b[39m.\u001b[39m\u001b[39m\"\u001b[39m, name), value)\n\u001b[0;32m    329\u001b[0m \u001b[39melse\u001b[39;00m:\n\u001b[0;32m    330\u001b[0m     \u001b[39mraise\u001b[39;00m Py4JError(\n\u001b[0;32m    331\u001b[0m         \u001b[39m\"\u001b[39m\u001b[39mAn error occurred while calling \u001b[39m\u001b[39m{0}\u001b[39;00m\u001b[39m{1}\u001b[39;00m\u001b[39m{2}\u001b[39;00m\u001b[39m. Trace:\u001b[39m\u001b[39m\\n\u001b[39;00m\u001b[39m{3}\u001b[39;00m\u001b[39m\\n\u001b[39;00m\u001b[39m\"\u001b[39m\u001b[39m.\u001b[39m\n\u001b[0;32m    332\u001b[0m         \u001b[39mformat\u001b[39m(target_id, \u001b[39m\"\u001b[39m\u001b[39m.\u001b[39m\u001b[39m\"\u001b[39m, name, value))\n",
      "\u001b[1;31mPy4JJavaError\u001b[0m: An error occurred while calling o254.save.\n: org.apache.spark.SparkException: Job aborted due to stage failure: Task 1 in stage 20.0 failed 1 times, most recent failure: Lost task 1.0 in stage 20.0 (TID 23) (Delltop executor driver): java.sql.SQLNonTransientConnectionException: No operations allowed after connection closed.\r\n\tat com.mysql.cj.jdbc.exceptions.SQLError.createSQLException(SQLError.java:110)\r\n\tat com.mysql.cj.jdbc.exceptions.SQLError.createSQLException(SQLError.java:97)\r\n\tat com.mysql.cj.jdbc.exceptions.SQLError.createSQLException(SQLError.java:89)\r\n\tat com.mysql.cj.jdbc.exceptions.SQLError.createSQLException(SQLError.java:63)\r\n\tat com.mysql.cj.jdbc.exceptions.SQLError.createSQLException(SQLError.java:73)\r\n\tat com.mysql.cj.jdbc.exceptions.SQLExceptionsMapping.translateException(SQLExceptionsMapping.java:73)\r\n\tat com.mysql.cj.jdbc.ConnectionImpl.rollback(ConnectionImpl.java:1862)\r\n\tat org.apache.spark.sql.execution.datasources.jdbc.JdbcUtils$.savePartition(JdbcUtils.scala:775)\r\n\tat org.apache.spark.sql.execution.datasources.jdbc.JdbcUtils$.$anonfun$saveTable$1(JdbcUtils.scala:891)\r\n\tat org.apache.spark.sql.execution.datasources.jdbc.JdbcUtils$.$anonfun$saveTable$1$adapted(JdbcUtils.scala:890)\r\n\tat org.apache.spark.rdd.RDD.$anonfun$foreachPartition$2(RDD.scala:1009)\r\n\tat org.apache.spark.rdd.RDD.$anonfun$foreachPartition$2$adapted(RDD.scala:1009)\r\n\tat org.apache.spark.SparkContext.$anonfun$runJob$5(SparkContext.scala:2303)\r\n\tat org.apache.spark.scheduler.ResultTask.runTask(ResultTask.scala:92)\r\n\tat org.apache.spark.TaskContext.runTaskWithListeners(TaskContext.scala:161)\r\n\tat org.apache.spark.scheduler.Task.run(Task.scala:139)\r\n\tat org.apache.spark.executor.Executor$TaskRunner.$anonfun$run$3(Executor.scala:554)\r\n\tat org.apache.spark.util.Utils$.tryWithSafeFinally(Utils.scala:1529)\r\n\tat org.apache.spark.executor.Executor$TaskRunner.run(Executor.scala:557)\r\n\tat java.util.concurrent.ThreadPoolExecutor.runWorker(ThreadPoolExecutor.java:1149)\r\n\tat java.util.concurrent.ThreadPoolExecutor$Worker.run(ThreadPoolExecutor.java:624)\r\n\tat java.lang.Thread.run(Thread.java:750)\r\nCaused by: com.mysql.cj.exceptions.ConnectionIsClosedException: No operations allowed after connection closed.\r\n\tat sun.reflect.NativeConstructorAccessorImpl.newInstance0(Native Method)\r\n\tat sun.reflect.NativeConstructorAccessorImpl.newInstance(NativeConstructorAccessorImpl.java:62)\r\n\tat sun.reflect.DelegatingConstructorAccessorImpl.newInstance(DelegatingConstructorAccessorImpl.java:45)\r\n\tat java.lang.reflect.Constructor.newInstance(Constructor.java:423)\r\n\tat com.mysql.cj.exceptions.ExceptionFactory.createException(ExceptionFactory.java:61)\r\n\tat com.mysql.cj.exceptions.ExceptionFactory.createException(ExceptionFactory.java:105)\r\n\tat com.mysql.cj.exceptions.ExceptionFactory.createException(ExceptionFactory.java:151)\r\n\tat com.mysql.cj.NativeSession.checkClosed(NativeSession.java:1171)\r\n\tat com.mysql.cj.jdbc.ConnectionImpl.checkClosed(ConnectionImpl.java:573)\r\n\tat com.mysql.cj.jdbc.ConnectionImpl.rollback(ConnectionImpl.java:1816)\r\n\t... 15 more\r\nCaused by: com.mysql.cj.exceptions.CJCommunicationsException: Communications link failure\n\nThe last packet successfully received from the server was 1,681 milliseconds ago. The last packet sent successfully to the server was 1,681 milliseconds ago.\r\n\tat sun.reflect.NativeConstructorAccessorImpl.newInstance0(Native Method)\r\n\tat sun.reflect.NativeConstructorAccessorImpl.newInstance(NativeConstructorAccessorImpl.java:62)\r\n\tat sun.reflect.DelegatingConstructorAccessorImpl.newInstance(DelegatingConstructorAccessorImpl.java:45)\r\n\tat java.lang.reflect.Constructor.newInstance(Constructor.java:423)\r\n\tat com.mysql.cj.exceptions.ExceptionFactory.createException(ExceptionFactory.java:61)\r\n\tat com.mysql.cj.exceptions.ExceptionFactory.createException(ExceptionFactory.java:105)\r\n\tat com.mysql.cj.exceptions.ExceptionFactory.createException(ExceptionFactory.java:151)\r\n\tat com.mysql.cj.exceptions.ExceptionFactory.createCommunicationsException(ExceptionFactory.java:167)\r\n\tat com.mysql.cj.protocol.a.NativeProtocol.readMessage(NativeProtocol.java:546)\r\n\tat com.mysql.cj.protocol.a.NativeProtocol.checkErrorMessage(NativeProtocol.java:710)\r\n\tat com.mysql.cj.protocol.a.NativeProtocol.sendCommand(NativeProtocol.java:649)\r\n\tat com.mysql.cj.protocol.a.NativeProtocol.sendQueryPacket(NativeProtocol.java:948)\r\n\tat com.mysql.cj.NativeSession.execSQL(NativeSession.java:1075)\r\n\tat com.mysql.cj.jdbc.ClientPreparedStatement.executeInternal(ClientPreparedStatement.java:930)\r\n\tat com.mysql.cj.jdbc.ClientPreparedStatement.executeUpdateInternal(ClientPreparedStatement.java:1092)\r\n\tat com.mysql.cj.jdbc.ClientPreparedStatement.executeBatchSerially(ClientPreparedStatement.java:832)\r\n\tat com.mysql.cj.jdbc.ClientPreparedStatement.executeBatchInternal(ClientPreparedStatement.java:435)\r\n\tat com.mysql.cj.jdbc.StatementImpl.executeBatch(StatementImpl.java:794)\r\n\tat org.apache.spark.sql.execution.datasources.jdbc.JdbcUtils$.savePartition(JdbcUtils.scala:735)\r\n\t... 14 more\r\nCaused by: java.net.SocketException: Software caused connection abort: recv failed\r\n\tat java.net.SocketInputStream.socketRead0(Native Method)\r\n\tat java.net.SocketInputStream.socketRead(SocketInputStream.java:116)\r\n\tat java.net.SocketInputStream.read(SocketInputStream.java:171)\r\n\tat java.net.SocketInputStream.read(SocketInputStream.java:141)\r\n\tat com.mysql.cj.protocol.ReadAheadInputStream.fill(ReadAheadInputStream.java:107)\r\n\tat com.mysql.cj.protocol.ReadAheadInputStream.readFromUnderlyingStreamIfNecessary(ReadAheadInputStream.java:150)\r\n\tat com.mysql.cj.protocol.ReadAheadInputStream.read(ReadAheadInputStream.java:180)\r\n\tat java.io.FilterInputStream.read(FilterInputStream.java:133)\r\n\tat com.mysql.cj.protocol.FullReadInputStream.readFully(FullReadInputStream.java:64)\r\n\tat com.mysql.cj.protocol.a.SimplePacketReader.readHeader(SimplePacketReader.java:63)\r\n\tat com.mysql.cj.protocol.a.SimplePacketReader.readHeader(SimplePacketReader.java:45)\r\n\tat com.mysql.cj.protocol.a.TimeTrackingPacketReader.readHeader(TimeTrackingPacketReader.java:52)\r\n\tat com.mysql.cj.protocol.a.TimeTrackingPacketReader.readHeader(TimeTrackingPacketReader.java:41)\r\n\tat com.mysql.cj.protocol.a.MultiPacketReader.readHeader(MultiPacketReader.java:54)\r\n\tat com.mysql.cj.protocol.a.MultiPacketReader.readHeader(MultiPacketReader.java:44)\r\n\tat com.mysql.cj.protocol.a.NativeProtocol.readMessage(NativeProtocol.java:540)\r\n\t... 24 more\r\n\nDriver stacktrace:\r\n\tat org.apache.spark.scheduler.DAGScheduler.failJobAndIndependentStages(DAGScheduler.scala:2785)\r\n\tat org.apache.spark.scheduler.DAGScheduler.$anonfun$abortStage$2(DAGScheduler.scala:2721)\r\n\tat org.apache.spark.scheduler.DAGScheduler.$anonfun$abortStage$2$adapted(DAGScheduler.scala:2720)\r\n\tat scala.collection.mutable.ResizableArray.foreach(ResizableArray.scala:62)\r\n\tat scala.collection.mutable.ResizableArray.foreach$(ResizableArray.scala:55)\r\n\tat scala.collection.mutable.ArrayBuffer.foreach(ArrayBuffer.scala:49)\r\n\tat org.apache.spark.scheduler.DAGScheduler.abortStage(DAGScheduler.scala:2720)\r\n\tat org.apache.spark.scheduler.DAGScheduler.$anonfun$handleTaskSetFailed$1(DAGScheduler.scala:1206)\r\n\tat org.apache.spark.scheduler.DAGScheduler.$anonfun$handleTaskSetFailed$1$adapted(DAGScheduler.scala:1206)\r\n\tat scala.Option.foreach(Option.scala:407)\r\n\tat org.apache.spark.scheduler.DAGScheduler.handleTaskSetFailed(DAGScheduler.scala:1206)\r\n\tat org.apache.spark.scheduler.DAGSchedulerEventProcessLoop.doOnReceive(DAGScheduler.scala:2984)\r\n\tat org.apache.spark.scheduler.DAGSchedulerEventProcessLoop.onReceive(DAGScheduler.scala:2923)\r\n\tat org.apache.spark.scheduler.DAGSchedulerEventProcessLoop.onReceive(DAGScheduler.scala:2912)\r\n\tat org.apache.spark.util.EventLoop$$anon$1.run(EventLoop.scala:49)\r\n\tat org.apache.spark.scheduler.DAGScheduler.runJob(DAGScheduler.scala:971)\r\n\tat org.apache.spark.SparkContext.runJob(SparkContext.scala:2263)\r\n\tat org.apache.spark.SparkContext.runJob(SparkContext.scala:2284)\r\n\tat org.apache.spark.SparkContext.runJob(SparkContext.scala:2303)\r\n\tat org.apache.spark.SparkContext.runJob(SparkContext.scala:2328)\r\n\tat org.apache.spark.rdd.RDD.$anonfun$foreachPartition$1(RDD.scala:1009)\r\n\tat org.apache.spark.rdd.RDDOperationScope$.withScope(RDDOperationScope.scala:151)\r\n\tat org.apache.spark.rdd.RDDOperationScope$.withScope(RDDOperationScope.scala:112)\r\n\tat org.apache.spark.rdd.RDD.withScope(RDD.scala:405)\r\n\tat org.apache.spark.rdd.RDD.foreachPartition(RDD.scala:1007)\r\n\tat org.apache.spark.sql.execution.datasources.jdbc.JdbcUtils$.saveTable(JdbcUtils.scala:890)\r\n\tat org.apache.spark.sql.execution.datasources.jdbc.JdbcRelationProvider.createRelation(JdbcRelationProvider.scala:70)\r\n\tat org.apache.spark.sql.execution.datasources.SaveIntoDataSourceCommand.run(SaveIntoDataSourceCommand.scala:47)\r\n\tat org.apache.spark.sql.execution.command.ExecutedCommandExec.sideEffectResult$lzycompute(commands.scala:75)\r\n\tat org.apache.spark.sql.execution.command.ExecutedCommandExec.sideEffectResult(commands.scala:73)\r\n\tat org.apache.spark.sql.execution.command.ExecutedCommandExec.executeCollect(commands.scala:84)\r\n\tat org.apache.spark.sql.execution.QueryExecution$$anonfun$eagerlyExecuteCommands$1.$anonfun$applyOrElse$1(QueryExecution.scala:98)\r\n\tat org.apache.spark.sql.execution.SQLExecution$.$anonfun$withNewExecutionId$6(SQLExecution.scala:118)\r\n\tat org.apache.spark.sql.execution.SQLExecution$.withSQLConfPropagated(SQLExecution.scala:195)\r\n\tat org.apache.spark.sql.execution.SQLExecution$.$anonfun$withNewExecutionId$1(SQLExecution.scala:103)\r\n\tat org.apache.spark.sql.SparkSession.withActive(SparkSession.scala:827)\r\n\tat org.apache.spark.sql.execution.SQLExecution$.withNewExecutionId(SQLExecution.scala:65)\r\n\tat org.apache.spark.sql.execution.QueryExecution$$anonfun$eagerlyExecuteCommands$1.applyOrElse(QueryExecution.scala:98)\r\n\tat org.apache.spark.sql.execution.QueryExecution$$anonfun$eagerlyExecuteCommands$1.applyOrElse(QueryExecution.scala:94)\r\n\tat org.apache.spark.sql.catalyst.trees.TreeNode.$anonfun$transformDownWithPruning$1(TreeNode.scala:512)\r\n\tat org.apache.spark.sql.catalyst.trees.CurrentOrigin$.withOrigin(TreeNode.scala:104)\r\n\tat org.apache.spark.sql.catalyst.trees.TreeNode.transformDownWithPruning(TreeNode.scala:512)\r\n\tat org.apache.spark.sql.catalyst.plans.logical.LogicalPlan.org$apache$spark$sql$catalyst$plans$logical$AnalysisHelper$$super$transformDownWithPruning(LogicalPlan.scala:31)\r\n\tat org.apache.spark.sql.catalyst.plans.logical.AnalysisHelper.transformDownWithPruning(AnalysisHelper.scala:267)\r\n\tat org.apache.spark.sql.catalyst.plans.logical.AnalysisHelper.transformDownWithPruning$(AnalysisHelper.scala:263)\r\n\tat org.apache.spark.sql.catalyst.plans.logical.LogicalPlan.transformDownWithPruning(LogicalPlan.scala:31)\r\n\tat org.apache.spark.sql.catalyst.plans.logical.LogicalPlan.transformDownWithPruning(LogicalPlan.scala:31)\r\n\tat org.apache.spark.sql.catalyst.trees.TreeNode.transformDown(TreeNode.scala:488)\r\n\tat org.apache.spark.sql.execution.QueryExecution.eagerlyExecuteCommands(QueryExecution.scala:94)\r\n\tat org.apache.spark.sql.execution.QueryExecution.commandExecuted$lzycompute(QueryExecution.scala:81)\r\n\tat org.apache.spark.sql.execution.QueryExecution.commandExecuted(QueryExecution.scala:79)\r\n\tat org.apache.spark.sql.execution.QueryExecution.assertCommandExecuted(QueryExecution.scala:133)\r\n\tat org.apache.spark.sql.DataFrameWriter.runCommand(DataFrameWriter.scala:856)\r\n\tat org.apache.spark.sql.DataFrameWriter.saveToV1Source(DataFrameWriter.scala:387)\r\n\tat org.apache.spark.sql.DataFrameWriter.saveInternal(DataFrameWriter.scala:360)\r\n\tat org.apache.spark.sql.DataFrameWriter.save(DataFrameWriter.scala:247)\r\n\tat sun.reflect.NativeMethodAccessorImpl.invoke0(Native Method)\r\n\tat sun.reflect.NativeMethodAccessorImpl.invoke(NativeMethodAccessorImpl.java:62)\r\n\tat sun.reflect.DelegatingMethodAccessorImpl.invoke(DelegatingMethodAccessorImpl.java:43)\r\n\tat java.lang.reflect.Method.invoke(Method.java:498)\r\n\tat py4j.reflection.MethodInvoker.invoke(MethodInvoker.java:244)\r\n\tat py4j.reflection.ReflectionEngine.invoke(ReflectionEngine.java:374)\r\n\tat py4j.Gateway.invoke(Gateway.java:282)\r\n\tat py4j.commands.AbstractCommand.invokeMethod(AbstractCommand.java:132)\r\n\tat py4j.commands.CallCommand.execute(CallCommand.java:79)\r\n\tat py4j.ClientServerConnection.waitForCommands(ClientServerConnection.java:182)\r\n\tat py4j.ClientServerConnection.run(ClientServerConnection.java:106)\r\n\tat java.lang.Thread.run(Thread.java:750)\r\nCaused by: java.sql.SQLNonTransientConnectionException: No operations allowed after connection closed.\r\n\tat com.mysql.cj.jdbc.exceptions.SQLError.createSQLException(SQLError.java:110)\r\n\tat com.mysql.cj.jdbc.exceptions.SQLError.createSQLException(SQLError.java:97)\r\n\tat com.mysql.cj.jdbc.exceptions.SQLError.createSQLException(SQLError.java:89)\r\n\tat com.mysql.cj.jdbc.exceptions.SQLError.createSQLException(SQLError.java:63)\r\n\tat com.mysql.cj.jdbc.exceptions.SQLError.createSQLException(SQLError.java:73)\r\n\tat com.mysql.cj.jdbc.exceptions.SQLExceptionsMapping.translateException(SQLExceptionsMapping.java:73)\r\n\tat com.mysql.cj.jdbc.ConnectionImpl.rollback(ConnectionImpl.java:1862)\r\n\tat org.apache.spark.sql.execution.datasources.jdbc.JdbcUtils$.savePartition(JdbcUtils.scala:775)\r\n\tat org.apache.spark.sql.execution.datasources.jdbc.JdbcUtils$.$anonfun$saveTable$1(JdbcUtils.scala:891)\r\n\tat org.apache.spark.sql.execution.datasources.jdbc.JdbcUtils$.$anonfun$saveTable$1$adapted(JdbcUtils.scala:890)\r\n\tat org.apache.spark.rdd.RDD.$anonfun$foreachPartition$2(RDD.scala:1009)\r\n\tat org.apache.spark.rdd.RDD.$anonfun$foreachPartition$2$adapted(RDD.scala:1009)\r\n\tat org.apache.spark.SparkContext.$anonfun$runJob$5(SparkContext.scala:2303)\r\n\tat org.apache.spark.scheduler.ResultTask.runTask(ResultTask.scala:92)\r\n\tat org.apache.spark.TaskContext.runTaskWithListeners(TaskContext.scala:161)\r\n\tat org.apache.spark.scheduler.Task.run(Task.scala:139)\r\n\tat org.apache.spark.executor.Executor$TaskRunner.$anonfun$run$3(Executor.scala:554)\r\n\tat org.apache.spark.util.Utils$.tryWithSafeFinally(Utils.scala:1529)\r\n\tat org.apache.spark.executor.Executor$TaskRunner.run(Executor.scala:557)\r\n\tat java.util.concurrent.ThreadPoolExecutor.runWorker(ThreadPoolExecutor.java:1149)\r\n\tat java.util.concurrent.ThreadPoolExecutor$Worker.run(ThreadPoolExecutor.java:624)\r\n\t... 1 more\r\nCaused by: com.mysql.cj.exceptions.ConnectionIsClosedException: No operations allowed after connection closed.\r\n\tat sun.reflect.NativeConstructorAccessorImpl.newInstance0(Native Method)\r\n\tat sun.reflect.NativeConstructorAccessorImpl.newInstance(NativeConstructorAccessorImpl.java:62)\r\n\tat sun.reflect.DelegatingConstructorAccessorImpl.newInstance(DelegatingConstructorAccessorImpl.java:45)\r\n\tat java.lang.reflect.Constructor.newInstance(Constructor.java:423)\r\n\tat com.mysql.cj.exceptions.ExceptionFactory.createException(ExceptionFactory.java:61)\r\n\tat com.mysql.cj.exceptions.ExceptionFactory.createException(ExceptionFactory.java:105)\r\n\tat com.mysql.cj.exceptions.ExceptionFactory.createException(ExceptionFactory.java:151)\r\n\tat com.mysql.cj.NativeSession.checkClosed(NativeSession.java:1171)\r\n\tat com.mysql.cj.jdbc.ConnectionImpl.checkClosed(ConnectionImpl.java:573)\r\n\tat com.mysql.cj.jdbc.ConnectionImpl.rollback(ConnectionImpl.java:1816)\r\n\t... 15 more\r\nCaused by: com.mysql.cj.exceptions.CJCommunicationsException: Communications link failure\n\nThe last packet successfully received from the server was 1,681 milliseconds ago. The last packet sent successfully to the server was 1,681 milliseconds ago.\r\n\tat sun.reflect.NativeConstructorAccessorImpl.newInstance0(Native Method)\r\n\tat sun.reflect.NativeConstructorAccessorImpl.newInstance(NativeConstructorAccessorImpl.java:62)\r\n\tat sun.reflect.DelegatingConstructorAccessorImpl.newInstance(DelegatingConstructorAccessorImpl.java:45)\r\n\tat java.lang.reflect.Constructor.newInstance(Constructor.java:423)\r\n\tat com.mysql.cj.exceptions.ExceptionFactory.createException(ExceptionFactory.java:61)\r\n\tat com.mysql.cj.exceptions.ExceptionFactory.createException(ExceptionFactory.java:105)\r\n\tat com.mysql.cj.exceptions.ExceptionFactory.createException(ExceptionFactory.java:151)\r\n\tat com.mysql.cj.exceptions.ExceptionFactory.createCommunicationsException(ExceptionFactory.java:167)\r\n\tat com.mysql.cj.protocol.a.NativeProtocol.readMessage(NativeProtocol.java:546)\r\n\tat com.mysql.cj.protocol.a.NativeProtocol.checkErrorMessage(NativeProtocol.java:710)\r\n\tat com.mysql.cj.protocol.a.NativeProtocol.sendCommand(NativeProtocol.java:649)\r\n\tat com.mysql.cj.protocol.a.NativeProtocol.sendQueryPacket(NativeProtocol.java:948)\r\n\tat com.mysql.cj.NativeSession.execSQL(NativeSession.java:1075)\r\n\tat com.mysql.cj.jdbc.ClientPreparedStatement.executeInternal(ClientPreparedStatement.java:930)\r\n\tat com.mysql.cj.jdbc.ClientPreparedStatement.executeUpdateInternal(ClientPreparedStatement.java:1092)\r\n\tat com.mysql.cj.jdbc.ClientPreparedStatement.executeBatchSerially(ClientPreparedStatement.java:832)\r\n\tat com.mysql.cj.jdbc.ClientPreparedStatement.executeBatchInternal(ClientPreparedStatement.java:435)\r\n\tat com.mysql.cj.jdbc.StatementImpl.executeBatch(StatementImpl.java:794)\r\n\tat org.apache.spark.sql.execution.datasources.jdbc.JdbcUtils$.savePartition(JdbcUtils.scala:735)\r\n\t... 14 more\r\nCaused by: java.net.SocketException: Software caused connection abort: recv failed\r\n\tat java.net.SocketInputStream.socketRead0(Native Method)\r\n\tat java.net.SocketInputStream.socketRead(SocketInputStream.java:116)\r\n\tat java.net.SocketInputStream.read(SocketInputStream.java:171)\r\n\tat java.net.SocketInputStream.read(SocketInputStream.java:141)\r\n\tat com.mysql.cj.protocol.ReadAheadInputStream.fill(ReadAheadInputStream.java:107)\r\n\tat com.mysql.cj.protocol.ReadAheadInputStream.readFromUnderlyingStreamIfNecessary(ReadAheadInputStream.java:150)\r\n\tat com.mysql.cj.protocol.ReadAheadInputStream.read(ReadAheadInputStream.java:180)\r\n\tat java.io.FilterInputStream.read(FilterInputStream.java:133)\r\n\tat com.mysql.cj.protocol.FullReadInputStream.readFully(FullReadInputStream.java:64)\r\n\tat com.mysql.cj.protocol.a.SimplePacketReader.readHeader(SimplePacketReader.java:63)\r\n\tat com.mysql.cj.protocol.a.SimplePacketReader.readHeader(SimplePacketReader.java:45)\r\n\tat com.mysql.cj.protocol.a.TimeTrackingPacketReader.readHeader(TimeTrackingPacketReader.java:52)\r\n\tat com.mysql.cj.protocol.a.TimeTrackingPacketReader.readHeader(TimeTrackingPacketReader.java:41)\r\n\tat com.mysql.cj.protocol.a.MultiPacketReader.readHeader(MultiPacketReader.java:54)\r\n\tat com.mysql.cj.protocol.a.MultiPacketReader.readHeader(MultiPacketReader.java:44)\r\n\tat com.mysql.cj.protocol.a.NativeProtocol.readMessage(NativeProtocol.java:540)\r\n\t... 24 more\r\n"
     ]
    }
   ],
   "source": [
    "conn_url = \"jdbc:mysql://mikey.helioho.st:3306/michaelwschmidt_creditcard_capstone\",\n",
    "table = \"cdw_sapp_customer\",\n",
    "conn_mode = \"append\"\n",
    "with open('../.secrets', 'r') as f:\n",
    "    CREDITCARD_CAPSTONE_PASSWORD = f.read()\n",
    "\n",
    "conn_prop = {\n",
    "            \"driver\": \"com.mysql.cj.jdbc.Driver\",\n",
    "            \"user\": \"michaelwschmidt_cc_capstone\",\n",
    "            \"password\": CREDITCARD_CAPSTONE_PASSWORD,\n",
    "            \"dbtable\": \"michaelwschmidt_creditcard_capstone.cdw_sapp_customer\",\n",
    "            \"header\": False\n",
    "}\n",
    "\n",
    "\n",
    "\n",
    "customers_df3.write.format(\"jdbc\").mode(\"append\")\\\n",
    "                .option(\"driver\", \"com.mysql.cj.jdbc.Driver\")\\\n",
    "                .option(\"url\", \"jdbc:mysql://tommy2.heliohost.org:3306/michaelwschmidt_creditcard_capstone\")\\\n",
    "                .option(\"user\", \"michaelwschmidt_cc_capstone\")\\\n",
    "                .option(\"dbtable\",\"cdw_sapp_customer\")\\\n",
    "                .option(\"password\", CREDITCARD_CAPSTONE_PASSWORD)\\\n",
    "                .option(\"header\", \"false\")\\\n",
    "                .save()\n",
    "\n",
    "branches_df2.write.format(\"jdbc\").mode(\"append\")\\\n",
    "                .option(\"driver\", \"com.mysql.cj.jdbc.Driver\")\\\n",
    "                .option(\"url\", \"jdbc:mysql://mikey.helioho.st:3306/michaelwschmidt_creditcard_capstone\")\\\n",
    "                .option(\"user\", \"michaelwschmidt_cc_capstone\")\\\n",
    "                .option(\"dbtable\",\"cdw_sapp_branch\")\\\n",
    "                .option(\"password\", CREDITCARD_CAPSTONE_PASSWORD)\\\n",
    "                .option(\"header\", \"false\")\\\n",
    "                .save()\n",
    "\n",
    "\n",
    "cc_transactions_df2.write.format(\"jdbc\").mode(\"append\")\\\n",
    "                .option(\"driver\", \"com.mysql.cj.jdbc.Driver\")\\\n",
    "                .option(\"url\", \"jdbc:mysql://mikey.helioho.st:3306/michaelwschmidt_creditcard_capstone\")\\\n",
    "                .option(\"user\", \"michaelwschmidt_cc_capstone\")\\\n",
    "                .option(\"dbtable\",\"cdw_sapp_credit_card\")\\\n",
    "                .option(\"password\", CREDITCARD_CAPSTONE_PASSWORD)\\\n",
    "                .option(\"header\", \"false\")\\\n",
    "                .save()\n"
   ]
  }
 ],
 "metadata": {
  "kernelspec": {
   "display_name": "Python 3",
   "language": "python",
   "name": "python3"
  },
  "language_info": {
   "codemirror_mode": {
    "name": "ipython",
    "version": 3
   },
   "file_extension": ".py",
   "mimetype": "text/x-python",
   "name": "python",
   "nbconvert_exporter": "python",
   "pygments_lexer": "ipython3",
   "version": "3.10.10"
  },
  "orig_nbformat": 4
 },
 "nbformat": 4,
 "nbformat_minor": 2
}
