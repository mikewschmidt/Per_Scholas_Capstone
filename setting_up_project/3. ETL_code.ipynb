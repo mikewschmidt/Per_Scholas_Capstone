{
 "cells": [
  {
   "attachments": {},
   "cell_type": "markdown",
   "metadata": {},
   "source": [
    "# ETL CODE\n",
    "---"
   ]
  },
  {
   "attachments": {},
   "cell_type": "markdown",
   "metadata": {},
   "source": [
    "## Extract data from datafiles and API\n"
   ]
  },
  {
   "cell_type": "code",
   "execution_count": 2,
   "metadata": {},
   "outputs": [],
   "source": [
    "import requests\n",
    "import os\n",
    "from pyspark.sql import SparkSession\n",
    "from pyspark.sql.types import StructType, StructField, IntegerType, StringType, TimestampType, FloatType\n",
    "from pyspark.sql.functions import col, initcap, lower, concat_ws, concat, lit, substring, when, lpad\n",
    "\n",
    "spark = SparkSession.builder.appName(\"credit_card\").getOrCreate()"
   ]
  },
  {
   "attachments": {},
   "cell_type": "markdown",
   "metadata": {},
   "source": [
    "Create the schemas for the data"
   ]
  },
  {
   "cell_type": "code",
   "execution_count": 3,
   "metadata": {},
   "outputs": [],
   "source": [
    "schema_branches = StructType([\n",
    "                            StructField(\"BRANCH_CODE\", IntegerType(), False),\n",
    "                            StructField(\"BRANCH_NAME\", StringType()), \n",
    "                            StructField(\"BRANCH_STREET\", StringType()),\n",
    "                            StructField(\"BRANCH_CITY\", StringType()),\n",
    "                            StructField(\"BRANCH_STATE\", StringType()),\n",
    "                            StructField(\"BRANCH_ZIP\", StringType()),\n",
    "                            StructField(\"BRANCH_PHONE\", StringType()),\n",
    "                            StructField(\"LAST_UPDATED\", TimestampType())\n",
    "])\n",
    "\n",
    "schema_customers = StructType([\n",
    "                            StructField(\"FIRST_NAME\", StringType()),\n",
    "                            StructField(\"MIDDLE_NAME\", StringType()),\n",
    "                            StructField(\"LAST_NAME\", StringType()),\n",
    "                            StructField(\"SSN\", IntegerType(), False),\n",
    "                            StructField(\"CREDIT_CARD_NO\", StringType()),\n",
    "                            StructField(\"APT_NO\", StringType()),\n",
    "                            StructField(\"STREET_NAME\", StringType()),\n",
    "                            StructField(\"CUST_CITY\", StringType()),\n",
    "                            StructField(\"CUST_STATE\", StringType()),\n",
    "                            StructField(\"CUST_COUNTRY\", StringType()),\n",
    "                            StructField(\"CUST_ZIP\", StringType()),\n",
    "                            StructField(\"CUST_PHONE\", StringType()),\n",
    "                            StructField(\"CUST_EMAIL\", StringType()),\n",
    "                            StructField(\"LAST_UPDATED\", TimestampType())\n",
    "])\n",
    "\n",
    "schema_cc_transactions = StructType([\n",
    "                            StructField(\"TRANSACTION_ID\", IntegerType(), False),\n",
    "                            StructField(\"DAY\", IntegerType()),\n",
    "                            StructField(\"MONTH\", IntegerType()),\n",
    "                            StructField(\"YEAR\", IntegerType()),\n",
    "                            StructField(\"CREDIT_CARD_NO\", StringType()),\n",
    "                            StructField(\"CUST_SSN\", StringType()),\n",
    "                            StructField(\"BRANCH_CODE\", IntegerType()),\n",
    "                            StructField(\"TRANSACTION_TYPE\", StringType()),\n",
    "                            StructField(\"TRANSACTION_VALUE\", FloatType())\n",
    "])\n",
    "\n",
    "schema_loans = StructType([\n",
    "                            StructField(\"Application_ID\", StringType()),\n",
    "                            StructField(\"Gender\", StringType()),\n",
    "                            StructField(\"Married\", StringType()),\n",
    "                            StructField(\"Dependents\", StringType()),\n",
    "                            StructField(\"Education\", StringType()),\n",
    "                            StructField(\"Self_Employed\", StringType()),\n",
    "                            StructField(\"Credit_History\", StringType()),\n",
    "                            StructField(\"Property_Area\", StringType()),\n",
    "                            StructField(\"Income\", StringType()),\n",
    "                            StructField(\"Application_Status\", StringType())\n",
    "])\n"
   ]
  },
  {
   "cell_type": "code",
   "execution_count": 4,
   "metadata": {},
   "outputs": [
    {
     "name": "stdout",
     "output_type": "stream",
     "text": [
      "+--------------+------+-------+----------+------------+-------------+--------------+-------------+------+------------------+\n",
      "|Application_ID|Gender|Married|Dependents|   Education|Self_Employed|Credit_History|Property_Area|Income|Application_Status|\n",
      "+--------------+------+-------+----------+------------+-------------+--------------+-------------+------+------------------+\n",
      "|      LP001002|  Male|     No|         0|    Graduate|           No|             1|        Urban|medium|                 Y|\n",
      "|      LP001003|  Male|    Yes|         1|    Graduate|           No|             1|        Rural|medium|                 N|\n",
      "|      LP001005|  Male|    Yes|         0|    Graduate|          Yes|             1|        Urban|   low|                 Y|\n",
      "|      LP001006|  Male|    Yes|         0|Not Graduate|           No|             1|        Urban|   low|                 Y|\n",
      "|      LP001008|  Male|     No|         0|    Graduate|           No|             1|        Urban|medium|                 Y|\n",
      "+--------------+------+-------+----------+------------+-------------+--------------+-------------+------+------------------+\n",
      "only showing top 5 rows\n",
      "\n"
     ]
    }
   ],
   "source": [
    "resp = requests.get(\"https://raw.githubusercontent.com/platformps/LoanDataset/main/loan_data.json\")\n",
    "resp.json()[:2]\n",
    "customers_df = spark.createDataFrame(resp.json(), schema=schema_loans)\n",
    "customers_df.show(5)"
   ]
  },
  {
   "cell_type": "code",
   "execution_count": 5,
   "metadata": {},
   "outputs": [
    {
     "name": "stdout",
     "output_type": "stream",
     "text": [
      "+-----------+------------+-----------------+-----------------+------------+----------+------------+-------------------+\n",
      "|BRANCH_CODE| BRANCH_NAME|    BRANCH_STREET|      BRANCH_CITY|BRANCH_STATE|BRANCH_ZIP|BRANCH_PHONE|       LAST_UPDATED|\n",
      "+-----------+------------+-----------------+-----------------+------------+----------+------------+-------------------+\n",
      "|          1|Example Bank|     Bridle Court|        Lakeville|          MN|     55044|  1234565276|2018-04-18 15:51:47|\n",
      "|        999|   TEST Bank|      Night Court|         TreeCity|          MM|      null|  1234567890|2018-04-18 15:51:47|\n",
      "|          2|Example Bank|Washington Street|          Huntley|          IL|     60142|  1234618993|2018-04-18 15:51:47|\n",
      "|          3|Example Bank|    Warren Street|SouthRichmondHill|          NY|     11419|  1234985926|2018-04-18 15:51:47|\n",
      "|          4|Example Bank| Cleveland Street|       Middleburg|          FL|     32068|  1234663064|2018-04-18 15:51:47|\n",
      "+-----------+------------+-----------------+-----------------+------------+----------+------------+-------------------+\n",
      "only showing top 5 rows\n",
      "\n",
      "+----------+-----------+---------+---------+----------------+------+-----------------+------------+----------+-------------+--------+----------+-------------------+-------------------+\n",
      "|FIRST_NAME|MIDDLE_NAME|LAST_NAME|      SSN|  CREDIT_CARD_NO|APT_NO|      STREET_NAME|   CUST_CITY|CUST_STATE| CUST_COUNTRY|CUST_ZIP|CUST_PHONE|         CUST_EMAIL|       LAST_UPDATED|\n",
      "+----------+-----------+---------+---------+----------------+------+-----------------+------------+----------+-------------+--------+----------+-------------------+-------------------+\n",
      "|      Alec|         Wm|   Hooper|123456100|4210653310061055|   656|Main Street North|     Natchez|        MS|United States|   39120|   1237818|AHooper@example.com|2018-04-21 11:49:02|\n",
      "|      Etta|    Brendan|   Holman|123453023|4210653310102868|   829|    Redwood Drive|Wethersfield|        CT|United States|   06109|   1238933|EHolman@example.com|2018-04-21 11:49:02|\n",
      "|    Wilber|   Ezequiel|   Dunham|123454487|4210653310116272|   683| 12th Street East|     Huntley|        IL|United States|   60142|   1243018|WDunham@example.com|2018-04-21 11:49:02|\n",
      "|   Eugenio|      Trina|    Hardy|123459758|4210653310195948|   253|Country Club Road|   NewBerlin|        WI|United States|   53151|   1243215| EHardy@example.com|2018-04-21 11:49:02|\n",
      "|   Wilfred|        May|    Ayers|123454431|4210653310356919|   301|   Madison Street|      ElPaso|        TX|United States|   79930|   1242074| WAyers@example.com|2018-04-21 11:49:02|\n",
      "+----------+-----------+---------+---------+----------------+------+-----------------+------------+----------+-------------+--------+----------+-------------------+-------------------+\n",
      "only showing top 5 rows\n",
      "\n",
      "+--------------+---+-----+----+----------------+---------+-----------+----------------+-----------------+\n",
      "|TRANSACTION_ID|DAY|MONTH|YEAR|  CREDIT_CARD_NO| CUST_SSN|BRANCH_CODE|TRANSACTION_TYPE|TRANSACTION_VALUE|\n",
      "+--------------+---+-----+----+----------------+---------+-----------+----------------+-----------------+\n",
      "|             1| 14|    2|2018|4210653349028689|123459988|        114|       Education|             78.9|\n",
      "|             2| 20|    3|2018|4210653349028689|123459988|         35|   Entertainment|            14.24|\n",
      "|             3|  8|    7|2018|4210653349028689|123459988|        160|         Grocery|             56.7|\n",
      "|             4| 19|    4|2018|4210653349028689|123459988|        114|   Entertainment|            59.73|\n",
      "|             5| 10|   10|2018|4210653349028689|123459988|         93|             Gas|             3.59|\n",
      "+--------------+---+-----+----+----------------+---------+-----------+----------------+-----------------+\n",
      "only showing top 5 rows\n",
      "\n",
      "+--------------+------+-------+----------+------------+-------------+--------------+-------------+------+------------------+\n",
      "|Application_ID|Gender|Married|Dependents|   Education|Self_Employed|Credit_History|Property_Area|Income|Application_Status|\n",
      "+--------------+------+-------+----------+------------+-------------+--------------+-------------+------+------------------+\n",
      "|      LP001002|  Male|     No|         0|    Graduate|           No|             1|        Urban|medium|                 Y|\n",
      "|      LP001003|  Male|    Yes|         1|    Graduate|           No|             1|        Rural|medium|                 N|\n",
      "|      LP001005|  Male|    Yes|         0|    Graduate|          Yes|             1|        Urban|   low|                 Y|\n",
      "|      LP001006|  Male|    Yes|         0|Not Graduate|           No|             1|        Urban|   low|                 Y|\n",
      "|      LP001008|  Male|     No|         0|    Graduate|           No|             1|        Urban|medium|                 Y|\n",
      "+--------------+------+-------+----------+------------+-------------+--------------+-------------+------+------------------+\n",
      "only showing top 5 rows\n",
      "\n"
     ]
    }
   ],
   "source": [
    "branches_df = spark.read.json(\"../data_files/cdw_sapp_branch.json\", schema=schema_branches)\n",
    "branches_df.show(5)\n",
    "\n",
    "customers_df = spark.read.json(\"../data_files/cdw_sapp_customer.json\", schema=schema_customers)\n",
    "customers_df.show(5)\n",
    "\n",
    "cc_transactions_df = spark.read.json(\"../data_files/cdw_sapp_credit.json\", schema=schema_cc_transactions)\n",
    "cc_transactions_df.show(5)\n",
    "\n",
    "resp = requests.get(\"https://raw.githubusercontent.com/platformps/LoanDataset/main/loan_data.json\")\n",
    "loan_df = spark.createDataFrame(resp.json(), schema=schema_loans)\n",
    "loan_df.show(5)\n",
    "\n"
   ]
  },
  {
   "attachments": {},
   "cell_type": "markdown",
   "metadata": {},
   "source": [
    "## Transformation with PySpark\n"
   ]
  },
  {
   "attachments": {},
   "cell_type": "markdown",
   "metadata": {},
   "source": [
    "Transforming customer data"
   ]
  },
  {
   "cell_type": "code",
   "execution_count": 6,
   "metadata": {},
   "outputs": [
    {
     "name": "stdout",
     "output_type": "stream",
     "text": [
      "Convert the first_name to Title case\n",
      "+----------+-----------+---------+---------+----------------+------+-----------------+------------+----------+-------------+--------+----------+-------------------+-------------------+\n",
      "|FIRST_NAME|MIDDLE_NAME|LAST_NAME|      SSN|  CREDIT_CARD_NO|APT_NO|      STREET_NAME|   CUST_CITY|CUST_STATE| CUST_COUNTRY|CUST_ZIP|CUST_PHONE|         CUST_EMAIL|       LAST_UPDATED|\n",
      "+----------+-----------+---------+---------+----------------+------+-----------------+------------+----------+-------------+--------+----------+-------------------+-------------------+\n",
      "|      Alec|         Wm|   Hooper|123456100|4210653310061055|   656|Main Street North|     Natchez|        MS|United States|   39120|   1237818|AHooper@example.com|2018-04-21 11:49:02|\n",
      "|      Etta|    Brendan|   Holman|123453023|4210653310102868|   829|    Redwood Drive|Wethersfield|        CT|United States|   06109|   1238933|EHolman@example.com|2018-04-21 11:49:02|\n",
      "|    Wilber|   Ezequiel|   Dunham|123454487|4210653310116272|   683| 12th Street East|     Huntley|        IL|United States|   60142|   1243018|WDunham@example.com|2018-04-21 11:49:02|\n",
      "+----------+-----------+---------+---------+----------------+------+-----------------+------------+----------+-------------+--------+----------+-------------------+-------------------+\n",
      "only showing top 3 rows\n",
      "\n",
      "Convert the middle name in lower case\n",
      "+----------+-----------+---------+---------+----------------+------+-----------------+------------+----------+-------------+--------+----------+-------------------+-------------------+\n",
      "|FIRST_NAME|MIDDLE_NAME|LAST_NAME|      SSN|  CREDIT_CARD_NO|APT_NO|      STREET_NAME|   CUST_CITY|CUST_STATE| CUST_COUNTRY|CUST_ZIP|CUST_PHONE|         CUST_EMAIL|       LAST_UPDATED|\n",
      "+----------+-----------+---------+---------+----------------+------+-----------------+------------+----------+-------------+--------+----------+-------------------+-------------------+\n",
      "|      Alec|         wm|   Hooper|123456100|4210653310061055|   656|Main Street North|     Natchez|        MS|United States|   39120|   1237818|AHooper@example.com|2018-04-21 11:49:02|\n",
      "|      Etta|    brendan|   Holman|123453023|4210653310102868|   829|    Redwood Drive|Wethersfield|        CT|United States|   06109|   1238933|EHolman@example.com|2018-04-21 11:49:02|\n",
      "|    Wilber|   ezequiel|   Dunham|123454487|4210653310116272|   683| 12th Street East|     Huntley|        IL|United States|   60142|   1243018|WDunham@example.com|2018-04-21 11:49:02|\n",
      "+----------+-----------+---------+---------+----------------+------+-----------------+------------+----------+-------------+--------+----------+-------------------+-------------------+\n",
      "only showing top 3 rows\n",
      "\n",
      "Convert the Last Name in Title Case\n",
      "+----------+-----------+---------+---------+----------------+------+-----------------+------------+----------+-------------+--------+----------+-------------------+-------------------+\n",
      "|FIRST_NAME|MIDDLE_NAME|LAST_NAME|      SSN|  CREDIT_CARD_NO|APT_NO|      STREET_NAME|   CUST_CITY|CUST_STATE| CUST_COUNTRY|CUST_ZIP|CUST_PHONE|         CUST_EMAIL|       LAST_UPDATED|\n",
      "+----------+-----------+---------+---------+----------------+------+-----------------+------------+----------+-------------+--------+----------+-------------------+-------------------+\n",
      "|      Alec|         wm|   Hooper|123456100|4210653310061055|   656|Main Street North|     Natchez|        MS|United States|   39120|   1237818|AHooper@example.com|2018-04-21 11:49:02|\n",
      "|      Etta|    brendan|   Holman|123453023|4210653310102868|   829|    Redwood Drive|Wethersfield|        CT|United States|   06109|   1238933|EHolman@example.com|2018-04-21 11:49:02|\n",
      "|    Wilber|   ezequiel|   Dunham|123454487|4210653310116272|   683| 12th Street East|     Huntley|        IL|United States|   60142|   1243018|WDunham@example.com|2018-04-21 11:49:02|\n",
      "+----------+-----------+---------+---------+----------------+------+-----------------+------------+----------+-------------+--------+----------+-------------------+-------------------+\n",
      "only showing top 3 rows\n",
      "\n",
      "Concatenate Apartment no and Street name of customer's Residence with comma as a seperator (Street, Apartment)\n",
      "+----------+-----------+---------+---------+----------------+--------------------+------------+----------+-------------+--------+----------+-------------------+-------------------+\n",
      "|FIRST_NAME|MIDDLE_NAME|LAST_NAME|      SSN|  CREDIT_CARD_NO| FULL_STREET_ADDRESS|   CUST_CITY|CUST_STATE| CUST_COUNTRY|CUST_ZIP|CUST_PHONE|         CUST_EMAIL|       LAST_UPDATED|\n",
      "+----------+-----------+---------+---------+----------------+--------------------+------------+----------+-------------+--------+----------+-------------------+-------------------+\n",
      "|      Alec|         wm|   Hooper|123456100|4210653310061055|Main Street North...|     Natchez|        MS|United States|   39120|   1237818|AHooper@example.com|2018-04-21 11:49:02|\n",
      "|      Etta|    brendan|   Holman|123453023|4210653310102868|  Redwood Drive, 829|Wethersfield|        CT|United States|   06109|   1238933|EHolman@example.com|2018-04-21 11:49:02|\n",
      "|    Wilber|   ezequiel|   Dunham|123454487|4210653310116272|12th Street East,...|     Huntley|        IL|United States|   60142|   1243018|WDunham@example.com|2018-04-21 11:49:02|\n",
      "+----------+-----------+---------+---------+----------------+--------------------+------------+----------+-------------+--------+----------+-------------------+-------------------+\n",
      "only showing top 3 rows\n",
      "\n",
      "+----------+-----------+---------+---------+----------------+--------------------+------------+----------+-------------+--------+----------+-------------------+-------------------+\n",
      "|FIRST_NAME|MIDDLE_NAME|LAST_NAME|      SSN|  CREDIT_CARD_NO| FULL_STREET_ADDRESS|   CUST_CITY|CUST_STATE| CUST_COUNTRY|CUST_ZIP|CUST_PHONE|         CUST_EMAIL|       LAST_UPDATED|\n",
      "+----------+-----------+---------+---------+----------------+--------------------+------------+----------+-------------+--------+----------+-------------------+-------------------+\n",
      "|      Alec|         wm|   Hooper|123456100|4210653310061055|Main Street North...|     Natchez|        MS|United States|   39120|  123-7818|AHooper@example.com|2018-04-21 11:49:02|\n",
      "|      Etta|    brendan|   Holman|123453023|4210653310102868|  Redwood Drive, 829|Wethersfield|        CT|United States|   06109|  123-8933|EHolman@example.com|2018-04-21 11:49:02|\n",
      "|    Wilber|   ezequiel|   Dunham|123454487|4210653310116272|12th Street East,...|     Huntley|        IL|United States|   60142|  124-3018|WDunham@example.com|2018-04-21 11:49:02|\n",
      "+----------+-----------+---------+---------+----------------+--------------------+------------+----------+-------------+--------+----------+-------------------+-------------------+\n",
      "only showing top 3 rows\n",
      "\n",
      "+---------+----------+-----------+---------+----------------+--------------------+------------+----------+-------------+--------+----------+-------------------+-------------------+\n",
      "|      SSN|FIRST_NAME|MIDDLE_NAME|LAST_NAME|  CREDIT_CARD_NO| FULL_STREET_ADDRESS|   CUST_CITY|CUST_STATE| CUST_COUNTRY|CUST_ZIP|CUST_PHONE|         CUST_EMAIL|       LAST_UPDATED|\n",
      "+---------+----------+-----------+---------+----------------+--------------------+------------+----------+-------------+--------+----------+-------------------+-------------------+\n",
      "|123456100|      Alec|         wm|   Hooper|4210653310061055|Main Street North...|     Natchez|        MS|United States|   39120|  123-7818|AHooper@example.com|2018-04-21 11:49:02|\n",
      "|123453023|      Etta|    brendan|   Holman|4210653310102868|  Redwood Drive, 829|Wethersfield|        CT|United States|   06109|  123-8933|EHolman@example.com|2018-04-21 11:49:02|\n",
      "|123454487|    Wilber|   ezequiel|   Dunham|4210653310116272|12th Street East,...|     Huntley|        IL|United States|   60142|  124-3018|WDunham@example.com|2018-04-21 11:49:02|\n",
      "+---------+----------+-----------+---------+----------------+--------------------+------------+----------+-------------+--------+----------+-------------------+-------------------+\n",
      "only showing top 3 rows\n",
      "\n"
     ]
    }
   ],
   "source": [
    "# Convert the first_name to Title case\n",
    "print(\"Convert the first_name to Title case\")\n",
    "customers_df = customers_df.withColumn(\"FIRST_NAME\", initcap(col(\"FIRST_NAME\")))\n",
    "customers_df.show(3)\n",
    "\n",
    "# Convert the middle name in lower case\n",
    "print(\"Convert the middle name in lower case\")\n",
    "customers_df = customers_df.withColumn(\"MIDDLE_NAME\", lower(col(\"MIDDLE_NAME\")))\n",
    "customers_df.show(3)\n",
    "\n",
    "# Convert the Last Name in Title Case\n",
    "print(\"Convert the Last Name in Title Case\")\n",
    "customers_df = customers_df.withColumn(\"LAST_NAME\", initcap(col(\"LAST_NAME\")))\n",
    "customers_df.show(3)\n",
    "\n",
    "# Concatenate Apartment no and Street name of customer's Residence with comma as a seperator (Street, Apartment)\n",
    "print(\"Concatenate Apartment no and Street name of customer's Residence with comma as a seperator (Street, Apartment)\")\n",
    "customers_df2 = customers_df.withColumn(\"STREET_NAME\", concat_ws(', ',col(\"STREET_NAME\"),col(\"APT_NO\")))\n",
    "customers_df2 = customers_df2.withColumnRenamed(\"STREET_NAME\", \"FULL_STREET_ADDRESS\")\n",
    "customers_df2 = customers_df2.drop(\"APT_NO\")\n",
    "customers_df2.show(3)\n",
    "\n",
    "# Change the format of phone number to (XXX)XXX-XXXX....the data ONLY has 7 digits NOT 10, so changing format to:  XXX-XXXX\n",
    "customers_df3 = customers_df2.withColumn(\"CUST_PHONE\", concat_ws(\"-\",substring(col(\"CUST_PHONE\"), 0, 3),substring(col(\"CUST_PHONE\"), 4, 7)))\n",
    "customers_df3.show(3)\n",
    "\n",
    "# Rearranging columns\n",
    "customers_df3 = customers_df3.select(\n",
    "                                    \"SSN\" ,\n",
    "                                    \"FIRST_NAME\" ,\n",
    "                                    \"MIDDLE_NAME\" ,\n",
    "                                    \"LAST_NAME\" ,\n",
    "                                    \"CREDIT_CARD_NO\" ,\n",
    "                                    \"FULL_STREET_ADDRESS\",\n",
    "                                    \"CUST_CITY\" ,\n",
    "                                    \"CUST_STATE\" ,\n",
    "                                    \"CUST_COUNTRY\" ,\n",
    "                                    \"CUST_ZIP\" ,\n",
    "                                    \"CUST_PHONE\" ,\n",
    "                                    \"CUST_EMAIL\" ,\n",
    "                                    \"LAST_UPDATED\"\n",
    ")\n",
    "customers_df3.show(3)\n"
   ]
  },
  {
   "attachments": {},
   "cell_type": "markdown",
   "metadata": {},
   "source": [
    "Transforming branch data"
   ]
  },
  {
   "cell_type": "code",
   "execution_count": 7,
   "metadata": {},
   "outputs": [
    {
     "name": "stdout",
     "output_type": "stream",
     "text": [
      "+-----------+------------+-----------------+-----------------+------------+----------+------------+-------------------+\n",
      "|BRANCH_CODE| BRANCH_NAME|    BRANCH_STREET|      BRANCH_CITY|BRANCH_STATE|BRANCH_ZIP|BRANCH_PHONE|       LAST_UPDATED|\n",
      "+-----------+------------+-----------------+-----------------+------------+----------+------------+-------------------+\n",
      "|          1|Example Bank|     Bridle Court|        Lakeville|          MN|     55044|  1234565276|2018-04-18 15:51:47|\n",
      "|        999|   TEST Bank|      Night Court|         TreeCity|          MM|     99999|  1234567890|2018-04-18 15:51:47|\n",
      "|          2|Example Bank|Washington Street|          Huntley|          IL|     60142|  1234618993|2018-04-18 15:51:47|\n",
      "|          3|Example Bank|    Warren Street|SouthRichmondHill|          NY|     11419|  1234985926|2018-04-18 15:51:47|\n",
      "|          4|Example Bank| Cleveland Street|       Middleburg|          FL|     32068|  1234663064|2018-04-18 15:51:47|\n",
      "+-----------+------------+-----------------+-----------------+------------+----------+------------+-------------------+\n",
      "only showing top 5 rows\n",
      "\n",
      "+-----------+------------+-----------------+-----------+------------+----------+-------------+-------------------+\n",
      "|BRANCH_CODE| BRANCH_NAME|    BRANCH_STREET|BRANCH_CITY|BRANCH_STATE|BRANCH_ZIP| BRANCH_PHONE|       LAST_UPDATED|\n",
      "+-----------+------------+-----------------+-----------+------------+----------+-------------+-------------------+\n",
      "|          1|Example Bank|     Bridle Court|  Lakeville|          MN|     55044|(123)456-5276|2018-04-18 15:51:47|\n",
      "|        999|   TEST Bank|      Night Court|   TreeCity|          MM|     99999|(123)456-7890|2018-04-18 15:51:47|\n",
      "|          2|Example Bank|Washington Street|    Huntley|          IL|     60142|(123)461-8993|2018-04-18 15:51:47|\n",
      "+-----------+------------+-----------------+-----------+------------+----------+-------------+-------------------+\n",
      "only showing top 3 rows\n",
      "\n"
     ]
    }
   ],
   "source": [
    "# If the BRANCH_ZIP source value is null load default (99999) value else Direct move\n",
    "branches_df = branches_df.withColumn(\"BRANCH_ZIP\", when(col(\"BRANCH_ZIP\").isNull(), 99999).otherwise(col(\"BRANCH_ZIP\")))\n",
    "branches_df.show(5)\n",
    "\n",
    "\n",
    "# Change the format of phone number to (XXX)XXX-XXXX\n",
    "branches_df2 = branches_df.withColumn(\"BRANCH_PHONE\", \n",
    "                                      concat(\n",
    "                                            lit(\"(\"),\n",
    "                                            substring(col(\"BRANCH_PHONE\"), 0, 3),\n",
    "                                            lit(\")\"),\n",
    "                                            substring(col(\"BRANCH_PHONE\"), 4, 3),\n",
    "                                            lit(\"-\"),\n",
    "                                            substring(col(\"BRANCH_PHONE\"), 7, 4)\n",
    "                                             ))\n",
    "branches_df2.show(3)\n"
   ]
  },
  {
   "attachments": {},
   "cell_type": "markdown",
   "metadata": {},
   "source": [
    "Transforming credit card transaction data"
   ]
  },
  {
   "cell_type": "code",
   "execution_count": 8,
   "metadata": {},
   "outputs": [
    {
     "name": "stdout",
     "output_type": "stream",
     "text": [
      "+--------------+--------+----------------+---------+-----------+----------------+-----------------+\n",
      "|TRANSACTION_ID|  TIMEID|  CREDIT_CARD_NO| CUST_SSN|BRANCH_CODE|TRANSACTION_TYPE|TRANSACTION_VALUE|\n",
      "+--------------+--------+----------------+---------+-----------+----------------+-----------------+\n",
      "|             1|20180214|4210653349028689|123459988|        114|       Education|             78.9|\n",
      "|             2|20180320|4210653349028689|123459988|         35|   Entertainment|            14.24|\n",
      "|             3|20180708|4210653349028689|123459988|        160|         Grocery|             56.7|\n",
      "+--------------+--------+----------------+---------+-----------+----------------+-----------------+\n",
      "only showing top 3 rows\n",
      "\n"
     ]
    }
   ],
   "source": [
    "# Convert DAY, MONTH, and YEAR into a TIMEID (YYYYMMDD)\n",
    "cc_transactions_df2 = cc_transactions_df.withColumn(\"DAY\", concat(\"YEAR\", lpad(\"MONTH\", 2, '0'), lpad(\"DAY\", 2, '0')))\\\n",
    "                                        .withColumnRenamed(\"DAY\",\"TIMEID\")\\\n",
    "                                        .drop(\"MONTH\")\\\n",
    "                                        .drop(\"YEAR\")\n",
    "cc_transactions_df2.show(3)"
   ]
  },
  {
   "attachments": {},
   "cell_type": "markdown",
   "metadata": {},
   "source": [
    "## Load into database"
   ]
  },
  {
   "attachments": {},
   "cell_type": "markdown",
   "metadata": {},
   "source": [
    "First I updated the create_tables.sql script to reflect the transformations made above"
   ]
  },
  {
   "cell_type": "code",
   "execution_count": 14,
   "metadata": {},
   "outputs": [
    {
     "name": "stdout",
     "output_type": "stream",
     "text": [
      "0\n"
     ]
    }
   ],
   "source": [
    "conn_url = \"jdbc:mysql://mikey.helioho.st:3306/michaelwschmidt_creditcard_capstone\",\n",
    "table = \"cdw_sapp_customer\",\n",
    "conn_mode = \"append\"\n",
    "conn_prop = {\n",
    "            \"driver\": \"com.mysql.cj.jdbc.Driver\",\n",
    "            \"user\": \"michaelwschmidt_cc_capstone\",\n",
    "            \"password\": \"password1\",\n",
    "            \"dbtable\": \"michaelwschmidt_creditcard_capstone.cdw_sapp_customer\",\n",
    "            \"header\": False\n",
    "}\n",
    "\n",
    "\n",
    "#customers_df3.write.format(\"jdbc\").mode(conn_mode).options(conn_prop).saveAsTable(\"cdw_sapp_customer\")\n",
    "\n",
    "\n",
    "#customers_df3.write.jdbc(url=conn_url, table=table, properties=conn_prop)\n",
    "print(os.environ.get(\"CREDITCARD_CAPSTONE_PASSWORD\",0))\n",
    "#for i in os.environ:\n",
    "#    print(i, os.environ[i])\n",
    "'''\n",
    "customers_df3.write.format(\"jdbc\").mode(\"append\")\\\n",
    "                .option(\"driver\", \"com.mysql.cj.jdbc.Driver\")\\\n",
    "                .option(\"url\", \"jdbc:mysql://mikey.helioho.st:3306/michaelwschmidt_creditcard_capstone\")\\\n",
    "                .option(\"user\", \"michaelwschmidt_cc_capstone\")\\\n",
    "                .option(\"dbtable\",\"cdw_sapp_customer\")\\\n",
    "                .option(\"password\", )\\\n",
    "                .option(\"header\", \"false\")\\\n",
    "                .saveAsTable(\"cdw_sapp_customer\")\n",
    "'''\n",
    "branches_df2.write.format(\"jdbc\").mode(\"append\")\\\n",
    "                .option(\"driver\", \"com.mysql.cj.jdbc.Driver\")\\\n",
    "                .option(\"url\", \"jdbc:mysql://mikey.helioho.st:3306/michaelwschmidt_creditcard_capstone\")\\\n",
    "                .option(\"user\", \"michaelwschmidt_cc_capstone\")\\\n",
    "                .option(\"dbtable\",\"cdw_sapp_branch\")\\\n",
    "                .option(\"password\", CREDITCARD_CAPSTONE_PASSWORD)\\\n",
    "                .option(\"header\", \"false\")\\\n",
    "                .save()\n",
    "\n",
    "\n",
    "cc_transactions_df2.write.format(\"jdbc\").mode(\"append\")\\\n",
    "                .option(\"driver\", \"com.mysql.cj.jdbc.Driver\")\\\n",
    "                .option(\"url\", \"jdbc:mysql://mikey.helioho.st:3306/michaelwschmidt_creditcard_capstone\")\\\n",
    "                .option(\"user\", \"michaelwschmidt_cc_capstone\")\\\n",
    "                .option(\"dbtable\",\"cdw_sapp_credit_card\")\\\n",
    "                .option(\"password\", CREDITCARD_CAPSTONE_PASSWORD)\\\n",
    "                .option(\"header\", \"false\")\\\n",
    "                .save()\n"
   ]
  }
 ],
 "metadata": {
  "kernelspec": {
   "display_name": "Python 3",
   "language": "python",
   "name": "python3"
  },
  "language_info": {
   "codemirror_mode": {
    "name": "ipython",
    "version": 3
   },
   "file_extension": ".py",
   "mimetype": "text/x-python",
   "name": "python",
   "nbconvert_exporter": "python",
   "pygments_lexer": "ipython3",
   "version": "3.10.10"
  },
  "orig_nbformat": 4
 },
 "nbformat": 4,
 "nbformat_minor": 2
}
